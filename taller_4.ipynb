{
  "cells": [
    {
      "cell_type": "code",
      "execution_count": 43,
      "metadata": {
        "id": "dwmj3yW59Mby"
      },
      "outputs": [],
      "source": [
        "import pandas as pd\n",
        "import joblib"
      ]
    },
    {
      "cell_type": "code",
      "execution_count": 44,
      "metadata": {
        "id": "_ObHN_aafgnk"
      },
      "outputs": [],
      "source": [
        "df = pd.read_json(\"DataSet_Entrenamiento_v1.json\")"
      ]
    },
    {
      "cell_type": "code",
      "execution_count": 45,
      "metadata": {
        "colab": {
          "base_uri": "https://localhost:8080/",
          "height": 386
        },
        "id": "XS4mHCd4g7SC",
        "outputId": "abd22b45-fca1-47ed-b241-c9cf89b7972b"
      },
      "outputs": [
        {
          "output_type": "execute_result",
          "data": {
            "text/plain": [
              "   customerID  gender  SeniorCitizen Partner Dependents  tenure PhoneService  \\\n",
              "0  7590-VHVEG  Female              0     Yes         No       1           No   \n",
              "1  5575-GNVDE    Male              0      No         No      34          Yes   \n",
              "2  3668-QPYBK    Male              0      No         No       2          Yes   \n",
              "3  5386-THSLQ  Female              1     Yes         No      66           No   \n",
              "4  3192-NQECA    Male              0     Yes         No      68          Yes   \n",
              "\n",
              "      MultipleLines InternetService OnlineSecurity  ... DeviceProtection  \\\n",
              "0  No phone service             DSL             No  ...               No   \n",
              "1                No             DSL            Yes  ...              Yes   \n",
              "2                No             DSL            Yes  ...               No   \n",
              "3  No phone service             DSL             No  ...              Yes   \n",
              "4               Yes     Fiber optic             No  ...              Yes   \n",
              "\n",
              "  TechSupport StreamingTV StreamingMovies        Contract PaperlessBilling  \\\n",
              "0          No          No              No  Month-to-month              Yes   \n",
              "1          No          No              No        One year               No   \n",
              "2          No          No              No  Month-to-month              Yes   \n",
              "3          No         Yes              No        One year               No   \n",
              "4         Yes         Yes             Yes        Two year              Yes   \n",
              "\n",
              "               PaymentMethod MonthlyCharges  TotalCharges Churn  \n",
              "0           Electronic check          29.85         29.85    No  \n",
              "1               Mailed check          56.95        1889.5    No  \n",
              "2               Mailed check          53.85        108.15   Yes  \n",
              "3  Bank transfer (automatic)          45.55       3027.25    No  \n",
              "4  Bank transfer (automatic)         110.00       7611.85   Yes  \n",
              "\n",
              "[5 rows x 21 columns]"
            ],
            "text/html": [
              "\n",
              "  <div id=\"df-a228fbba-56d0-4b31-8b96-1b1d4e59f638\">\n",
              "    <div class=\"colab-df-container\">\n",
              "      <div>\n",
              "<style scoped>\n",
              "    .dataframe tbody tr th:only-of-type {\n",
              "        vertical-align: middle;\n",
              "    }\n",
              "\n",
              "    .dataframe tbody tr th {\n",
              "        vertical-align: top;\n",
              "    }\n",
              "\n",
              "    .dataframe thead th {\n",
              "        text-align: right;\n",
              "    }\n",
              "</style>\n",
              "<table border=\"1\" class=\"dataframe\">\n",
              "  <thead>\n",
              "    <tr style=\"text-align: right;\">\n",
              "      <th></th>\n",
              "      <th>customerID</th>\n",
              "      <th>gender</th>\n",
              "      <th>SeniorCitizen</th>\n",
              "      <th>Partner</th>\n",
              "      <th>Dependents</th>\n",
              "      <th>tenure</th>\n",
              "      <th>PhoneService</th>\n",
              "      <th>MultipleLines</th>\n",
              "      <th>InternetService</th>\n",
              "      <th>OnlineSecurity</th>\n",
              "      <th>...</th>\n",
              "      <th>DeviceProtection</th>\n",
              "      <th>TechSupport</th>\n",
              "      <th>StreamingTV</th>\n",
              "      <th>StreamingMovies</th>\n",
              "      <th>Contract</th>\n",
              "      <th>PaperlessBilling</th>\n",
              "      <th>PaymentMethod</th>\n",
              "      <th>MonthlyCharges</th>\n",
              "      <th>TotalCharges</th>\n",
              "      <th>Churn</th>\n",
              "    </tr>\n",
              "  </thead>\n",
              "  <tbody>\n",
              "    <tr>\n",
              "      <th>0</th>\n",
              "      <td>7590-VHVEG</td>\n",
              "      <td>Female</td>\n",
              "      <td>0</td>\n",
              "      <td>Yes</td>\n",
              "      <td>No</td>\n",
              "      <td>1</td>\n",
              "      <td>No</td>\n",
              "      <td>No phone service</td>\n",
              "      <td>DSL</td>\n",
              "      <td>No</td>\n",
              "      <td>...</td>\n",
              "      <td>No</td>\n",
              "      <td>No</td>\n",
              "      <td>No</td>\n",
              "      <td>No</td>\n",
              "      <td>Month-to-month</td>\n",
              "      <td>Yes</td>\n",
              "      <td>Electronic check</td>\n",
              "      <td>29.85</td>\n",
              "      <td>29.85</td>\n",
              "      <td>No</td>\n",
              "    </tr>\n",
              "    <tr>\n",
              "      <th>1</th>\n",
              "      <td>5575-GNVDE</td>\n",
              "      <td>Male</td>\n",
              "      <td>0</td>\n",
              "      <td>No</td>\n",
              "      <td>No</td>\n",
              "      <td>34</td>\n",
              "      <td>Yes</td>\n",
              "      <td>No</td>\n",
              "      <td>DSL</td>\n",
              "      <td>Yes</td>\n",
              "      <td>...</td>\n",
              "      <td>Yes</td>\n",
              "      <td>No</td>\n",
              "      <td>No</td>\n",
              "      <td>No</td>\n",
              "      <td>One year</td>\n",
              "      <td>No</td>\n",
              "      <td>Mailed check</td>\n",
              "      <td>56.95</td>\n",
              "      <td>1889.5</td>\n",
              "      <td>No</td>\n",
              "    </tr>\n",
              "    <tr>\n",
              "      <th>2</th>\n",
              "      <td>3668-QPYBK</td>\n",
              "      <td>Male</td>\n",
              "      <td>0</td>\n",
              "      <td>No</td>\n",
              "      <td>No</td>\n",
              "      <td>2</td>\n",
              "      <td>Yes</td>\n",
              "      <td>No</td>\n",
              "      <td>DSL</td>\n",
              "      <td>Yes</td>\n",
              "      <td>...</td>\n",
              "      <td>No</td>\n",
              "      <td>No</td>\n",
              "      <td>No</td>\n",
              "      <td>No</td>\n",
              "      <td>Month-to-month</td>\n",
              "      <td>Yes</td>\n",
              "      <td>Mailed check</td>\n",
              "      <td>53.85</td>\n",
              "      <td>108.15</td>\n",
              "      <td>Yes</td>\n",
              "    </tr>\n",
              "    <tr>\n",
              "      <th>3</th>\n",
              "      <td>5386-THSLQ</td>\n",
              "      <td>Female</td>\n",
              "      <td>1</td>\n",
              "      <td>Yes</td>\n",
              "      <td>No</td>\n",
              "      <td>66</td>\n",
              "      <td>No</td>\n",
              "      <td>No phone service</td>\n",
              "      <td>DSL</td>\n",
              "      <td>No</td>\n",
              "      <td>...</td>\n",
              "      <td>Yes</td>\n",
              "      <td>No</td>\n",
              "      <td>Yes</td>\n",
              "      <td>No</td>\n",
              "      <td>One year</td>\n",
              "      <td>No</td>\n",
              "      <td>Bank transfer (automatic)</td>\n",
              "      <td>45.55</td>\n",
              "      <td>3027.25</td>\n",
              "      <td>No</td>\n",
              "    </tr>\n",
              "    <tr>\n",
              "      <th>4</th>\n",
              "      <td>3192-NQECA</td>\n",
              "      <td>Male</td>\n",
              "      <td>0</td>\n",
              "      <td>Yes</td>\n",
              "      <td>No</td>\n",
              "      <td>68</td>\n",
              "      <td>Yes</td>\n",
              "      <td>Yes</td>\n",
              "      <td>Fiber optic</td>\n",
              "      <td>No</td>\n",
              "      <td>...</td>\n",
              "      <td>Yes</td>\n",
              "      <td>Yes</td>\n",
              "      <td>Yes</td>\n",
              "      <td>Yes</td>\n",
              "      <td>Two year</td>\n",
              "      <td>Yes</td>\n",
              "      <td>Bank transfer (automatic)</td>\n",
              "      <td>110.00</td>\n",
              "      <td>7611.85</td>\n",
              "      <td>Yes</td>\n",
              "    </tr>\n",
              "  </tbody>\n",
              "</table>\n",
              "<p>5 rows × 21 columns</p>\n",
              "</div>\n",
              "      <button class=\"colab-df-convert\" onclick=\"convertToInteractive('df-a228fbba-56d0-4b31-8b96-1b1d4e59f638')\"\n",
              "              title=\"Convert this dataframe to an interactive table.\"\n",
              "              style=\"display:none;\">\n",
              "        \n",
              "  <svg xmlns=\"http://www.w3.org/2000/svg\" height=\"24px\"viewBox=\"0 0 24 24\"\n",
              "       width=\"24px\">\n",
              "    <path d=\"M0 0h24v24H0V0z\" fill=\"none\"/>\n",
              "    <path d=\"M18.56 5.44l.94 2.06.94-2.06 2.06-.94-2.06-.94-.94-2.06-.94 2.06-2.06.94zm-11 1L8.5 8.5l.94-2.06 2.06-.94-2.06-.94L8.5 2.5l-.94 2.06-2.06.94zm10 10l.94 2.06.94-2.06 2.06-.94-2.06-.94-.94-2.06-.94 2.06-2.06.94z\"/><path d=\"M17.41 7.96l-1.37-1.37c-.4-.4-.92-.59-1.43-.59-.52 0-1.04.2-1.43.59L10.3 9.45l-7.72 7.72c-.78.78-.78 2.05 0 2.83L4 21.41c.39.39.9.59 1.41.59.51 0 1.02-.2 1.41-.59l7.78-7.78 2.81-2.81c.8-.78.8-2.07 0-2.86zM5.41 20L4 18.59l7.72-7.72 1.47 1.35L5.41 20z\"/>\n",
              "  </svg>\n",
              "      </button>\n",
              "      \n",
              "  <style>\n",
              "    .colab-df-container {\n",
              "      display:flex;\n",
              "      flex-wrap:wrap;\n",
              "      gap: 12px;\n",
              "    }\n",
              "\n",
              "    .colab-df-convert {\n",
              "      background-color: #E8F0FE;\n",
              "      border: none;\n",
              "      border-radius: 50%;\n",
              "      cursor: pointer;\n",
              "      display: none;\n",
              "      fill: #1967D2;\n",
              "      height: 32px;\n",
              "      padding: 0 0 0 0;\n",
              "      width: 32px;\n",
              "    }\n",
              "\n",
              "    .colab-df-convert:hover {\n",
              "      background-color: #E2EBFA;\n",
              "      box-shadow: 0px 1px 2px rgba(60, 64, 67, 0.3), 0px 1px 3px 1px rgba(60, 64, 67, 0.15);\n",
              "      fill: #174EA6;\n",
              "    }\n",
              "\n",
              "    [theme=dark] .colab-df-convert {\n",
              "      background-color: #3B4455;\n",
              "      fill: #D2E3FC;\n",
              "    }\n",
              "\n",
              "    [theme=dark] .colab-df-convert:hover {\n",
              "      background-color: #434B5C;\n",
              "      box-shadow: 0px 1px 3px 1px rgba(0, 0, 0, 0.15);\n",
              "      filter: drop-shadow(0px 1px 2px rgba(0, 0, 0, 0.3));\n",
              "      fill: #FFFFFF;\n",
              "    }\n",
              "  </style>\n",
              "\n",
              "      <script>\n",
              "        const buttonEl =\n",
              "          document.querySelector('#df-a228fbba-56d0-4b31-8b96-1b1d4e59f638 button.colab-df-convert');\n",
              "        buttonEl.style.display =\n",
              "          google.colab.kernel.accessAllowed ? 'block' : 'none';\n",
              "\n",
              "        async function convertToInteractive(key) {\n",
              "          const element = document.querySelector('#df-a228fbba-56d0-4b31-8b96-1b1d4e59f638');\n",
              "          const dataTable =\n",
              "            await google.colab.kernel.invokeFunction('convertToInteractive',\n",
              "                                                     [key], {});\n",
              "          if (!dataTable) return;\n",
              "\n",
              "          const docLinkHtml = 'Like what you see? Visit the ' +\n",
              "            '<a target=\"_blank\" href=https://colab.research.google.com/notebooks/data_table.ipynb>data table notebook</a>'\n",
              "            + ' to learn more about interactive tables.';\n",
              "          element.innerHTML = '';\n",
              "          dataTable['output_type'] = 'display_data';\n",
              "          await google.colab.output.renderOutput(dataTable, element);\n",
              "          const docLink = document.createElement('div');\n",
              "          docLink.innerHTML = docLinkHtml;\n",
              "          element.appendChild(docLink);\n",
              "        }\n",
              "      </script>\n",
              "    </div>\n",
              "  </div>\n",
              "  "
            ]
          },
          "metadata": {},
          "execution_count": 45
        }
      ],
      "source": [
        "df.head()"
      ]
    },
    {
      "cell_type": "code",
      "execution_count": 46,
      "metadata": {
        "colab": {
          "base_uri": "https://localhost:8080/"
        },
        "id": "vUFlZnPGg-hV",
        "outputId": "720d94f5-9f7c-46c2-a47f-42cf1aa0e2ca"
      },
      "outputs": [
        {
          "output_type": "execute_result",
          "data": {
            "text/plain": [
              "Index(['customerID', 'gender', 'SeniorCitizen', 'Partner', 'Dependents',\n",
              "       'tenure', 'PhoneService', 'MultipleLines', 'InternetService',\n",
              "       'OnlineSecurity', 'OnlineBackup', 'DeviceProtection', 'TechSupport',\n",
              "       'StreamingTV', 'StreamingMovies', 'Contract', 'PaperlessBilling',\n",
              "       'PaymentMethod', 'MonthlyCharges', 'TotalCharges', 'Churn'],\n",
              "      dtype='object')"
            ]
          },
          "metadata": {},
          "execution_count": 46
        }
      ],
      "source": [
        "df.columns"
      ]
    },
    {
      "cell_type": "code",
      "execution_count": 47,
      "metadata": {
        "id": "xWuYVfj0g8Dw"
      },
      "outputs": [],
      "source": [
        "df.drop(\"customerID\",axis = 1, inplace=True)"
      ]
    },
    {
      "cell_type": "code",
      "execution_count": 48,
      "metadata": {
        "id": "mVDHdw75iaKU"
      },
      "outputs": [],
      "source": [
        "df.TotalCharges = pd.to_numeric(df.TotalCharges)"
      ]
    },
    {
      "cell_type": "code",
      "execution_count": 49,
      "metadata": {
        "id": "t3wbJ_N0hL1J"
      },
      "outputs": [],
      "source": [
        "num_cols = df._get_numeric_data().columns"
      ]
    },
    {
      "cell_type": "code",
      "execution_count": 50,
      "metadata": {
        "id": "4rvXzVe0hbqP"
      },
      "outputs": [],
      "source": [
        "cat_cols = df.select_dtypes(include=['object']).columns"
      ]
    },
    {
      "cell_type": "code",
      "execution_count": 51,
      "metadata": {
        "colab": {
          "base_uri": "https://localhost:8080/"
        },
        "id": "YaquJkD6ioqs",
        "outputId": "48fa35b4-954b-426c-ad22-da3db7ae3d55"
      },
      "outputs": [
        {
          "output_type": "stream",
          "name": "stdout",
          "text": [
            "gender ['Female' 'Male']\n",
            "Partner ['Yes' 'No']\n",
            "Dependents ['No' 'Yes']\n",
            "PhoneService ['No' 'Yes']\n",
            "MultipleLines ['No phone service' 'No' 'Yes']\n",
            "InternetService ['DSL' 'Fiber optic' 'No']\n",
            "OnlineSecurity ['No' 'Yes' 'No internet service']\n",
            "OnlineBackup ['Yes' 'No' 'No internet service']\n",
            "DeviceProtection ['No' 'Yes' 'No internet service']\n",
            "TechSupport ['No' 'Yes' 'No internet service']\n",
            "StreamingTV ['No' 'Yes' 'No internet service']\n",
            "StreamingMovies ['No' 'Yes' 'No internet service']\n",
            "Contract ['Month-to-month' 'One year' 'Two year']\n",
            "PaperlessBilling ['Yes' 'No']\n",
            "PaymentMethod ['Electronic check' 'Mailed check' 'Bank transfer (automatic)'\n",
            " 'Credit card (automatic)']\n",
            "Churn ['No' 'Yes']\n"
          ]
        }
      ],
      "source": [
        "for col in cat_cols:\n",
        "  print(col,df[col].unique())"
      ]
    },
    {
      "cell_type": "code",
      "execution_count": 52,
      "metadata": {
        "id": "Wky8MdFSmFjG"
      },
      "outputs": [],
      "source": [
        "one = [\"gender\",\"Partner\",\"Dependents\",\"PhoneService\",\"PaperlessBilling\"]\n",
        "label = [\"MultipleLines\",\"InternetService\",\"OnlineSecurity\",\"OnlineBackup\",\"DeviceProtection\",\"TechSupport\",\n",
        "         \"StreamingTV\",\"StreamingMovies\",\"Contract\",\"PaymentMethod\"]"
      ]
    },
    {
      "cell_type": "markdown",
      "metadata": {
        "id": "L0FCUbRoj9jq"
      },
      "source": [
        "Vemos que las variables con dos valores las podemos codificar con un label encoder y el resto con one-hot encoder"
      ]
    },
    {
      "cell_type": "code",
      "execution_count": 53,
      "metadata": {
        "id": "hGyW13mRiRUJ"
      },
      "outputs": [],
      "source": [
        "from sklearn.model_selection import train_test_split\n",
        "\n",
        "y = df.Churn\n",
        "X = df.drop(\"Churn\",axis = 1)\n",
        "X_train, X_test, y_train, y_test = train_test_split(X, y, test_size=0.2, random_state=123)"
      ]
    },
    {
      "cell_type": "code",
      "execution_count": 54,
      "metadata": {
        "id": "1ILJzh3gl1Bq"
      },
      "outputs": [],
      "source": [
        "from sklearn.preprocessing import OneHotEncoder\n",
        "from sklearn.preprocessing import StandardScaler, OrdinalEncoder\n",
        "from sklearn.impute import SimpleImputer\n",
        "from sklearn.compose import ColumnTransformer\n",
        "from sklearn.pipeline import Pipeline\n",
        "\n",
        "numeric_transformer = Pipeline(steps=[\n",
        "       ('imputer', SimpleImputer(strategy='mean'))\n",
        "      ,('scaler', StandardScaler())\n",
        "])\n",
        "categorical_transformer = Pipeline(steps=[\n",
        "       ('imputer', SimpleImputer(strategy='constant'))\n",
        "      ,('encoder', OrdinalEncoder())\n",
        "])\n",
        "\n",
        "categorical_transformer2 = Pipeline(steps=[\n",
        "       ('imputer', SimpleImputer(strategy='constant'))\n",
        "      ,('encoder', OneHotEncoder())\n",
        "])"
      ]
    },
    {
      "cell_type": "code",
      "execution_count": 55,
      "metadata": {
        "id": "oFC_a2cxkZcE"
      },
      "outputs": [],
      "source": [
        "\n",
        "\n",
        "preprocessor = ColumnTransformer(\n",
        "   transformers=[\n",
        "    ('numeric', numeric_transformer, num_cols)\n",
        "   ,('categorical', categorical_transformer, label)\n",
        "   ,('categorical2',categorical_transformer2,one)\n",
        "]) "
      ]
    },
    {
      "cell_type": "code",
      "execution_count": 56,
      "metadata": {
        "id": "1yudpgF0qvj5"
      },
      "outputs": [],
      "source": [
        "from sklearn.ensemble import RandomForestClassifier\n",
        "\n",
        "pipeline = Pipeline(steps = [\n",
        "               ('preprocessor', preprocessor)\n",
        "              ,('classifier',RandomForestClassifier())\n",
        "           ])"
      ]
    },
    {
      "cell_type": "code",
      "execution_count": 57,
      "metadata": {
        "colab": {
          "base_uri": "https://localhost:8080/",
          "height": 227
        },
        "id": "vYs4H2gGn2w5",
        "outputId": "f52ee3c3-2665-4787-b479-d8cc07d46f14"
      },
      "outputs": [
        {
          "output_type": "execute_result",
          "data": {
            "text/plain": [
              "Pipeline(steps=[('preprocessor',\n",
              "                 ColumnTransformer(transformers=[('numeric',\n",
              "                                                  Pipeline(steps=[('imputer',\n",
              "                                                                   SimpleImputer()),\n",
              "                                                                  ('scaler',\n",
              "                                                                   StandardScaler())]),\n",
              "                                                  Index(['SeniorCitizen', 'tenure', 'MonthlyCharges', 'TotalCharges'], dtype='object')),\n",
              "                                                 ('categorical',\n",
              "                                                  Pipeline(steps=[('imputer',\n",
              "                                                                   SimpleImputer(strategy='constant')),\n",
              "                                                                  ('encoder',\n",
              "                                                                   OrdinalEncoder())]),\n",
              "                                                  ['Multiple...\n",
              "                                                   'InternetService',\n",
              "                                                   'OnlineSecurity',\n",
              "                                                   'OnlineBackup',\n",
              "                                                   'DeviceProtection',\n",
              "                                                   'TechSupport', 'StreamingTV',\n",
              "                                                   'StreamingMovies',\n",
              "                                                   'Contract',\n",
              "                                                   'PaymentMethod']),\n",
              "                                                 ('categorical2',\n",
              "                                                  Pipeline(steps=[('imputer',\n",
              "                                                                   SimpleImputer(strategy='constant')),\n",
              "                                                                  ('encoder',\n",
              "                                                                   OneHotEncoder())]),\n",
              "                                                  ['gender', 'Partner',\n",
              "                                                   'Dependents', 'PhoneService',\n",
              "                                                   'PaperlessBilling'])])),\n",
              "                ('classifier', RandomForestClassifier())])"
            ],
            "text/html": [
              "<style>#sk-8b4cd932-c9e2-4981-90d2-7ac8e6c465f0 {color: black;background-color: white;}#sk-8b4cd932-c9e2-4981-90d2-7ac8e6c465f0 pre{padding: 0;}#sk-8b4cd932-c9e2-4981-90d2-7ac8e6c465f0 div.sk-toggleable {background-color: white;}#sk-8b4cd932-c9e2-4981-90d2-7ac8e6c465f0 label.sk-toggleable__label {cursor: pointer;display: block;width: 100%;margin-bottom: 0;padding: 0.3em;box-sizing: border-box;text-align: center;}#sk-8b4cd932-c9e2-4981-90d2-7ac8e6c465f0 label.sk-toggleable__label-arrow:before {content: \"▸\";float: left;margin-right: 0.25em;color: #696969;}#sk-8b4cd932-c9e2-4981-90d2-7ac8e6c465f0 label.sk-toggleable__label-arrow:hover:before {color: black;}#sk-8b4cd932-c9e2-4981-90d2-7ac8e6c465f0 div.sk-estimator:hover label.sk-toggleable__label-arrow:before {color: black;}#sk-8b4cd932-c9e2-4981-90d2-7ac8e6c465f0 div.sk-toggleable__content {max-height: 0;max-width: 0;overflow: hidden;text-align: left;background-color: #f0f8ff;}#sk-8b4cd932-c9e2-4981-90d2-7ac8e6c465f0 div.sk-toggleable__content pre {margin: 0.2em;color: black;border-radius: 0.25em;background-color: #f0f8ff;}#sk-8b4cd932-c9e2-4981-90d2-7ac8e6c465f0 input.sk-toggleable__control:checked~div.sk-toggleable__content {max-height: 200px;max-width: 100%;overflow: auto;}#sk-8b4cd932-c9e2-4981-90d2-7ac8e6c465f0 input.sk-toggleable__control:checked~label.sk-toggleable__label-arrow:before {content: \"▾\";}#sk-8b4cd932-c9e2-4981-90d2-7ac8e6c465f0 div.sk-estimator input.sk-toggleable__control:checked~label.sk-toggleable__label {background-color: #d4ebff;}#sk-8b4cd932-c9e2-4981-90d2-7ac8e6c465f0 div.sk-label input.sk-toggleable__control:checked~label.sk-toggleable__label {background-color: #d4ebff;}#sk-8b4cd932-c9e2-4981-90d2-7ac8e6c465f0 input.sk-hidden--visually {border: 0;clip: rect(1px 1px 1px 1px);clip: rect(1px, 1px, 1px, 1px);height: 1px;margin: -1px;overflow: hidden;padding: 0;position: absolute;width: 1px;}#sk-8b4cd932-c9e2-4981-90d2-7ac8e6c465f0 div.sk-estimator {font-family: monospace;background-color: #f0f8ff;border: 1px dotted black;border-radius: 0.25em;box-sizing: border-box;margin-bottom: 0.5em;}#sk-8b4cd932-c9e2-4981-90d2-7ac8e6c465f0 div.sk-estimator:hover {background-color: #d4ebff;}#sk-8b4cd932-c9e2-4981-90d2-7ac8e6c465f0 div.sk-parallel-item::after {content: \"\";width: 100%;border-bottom: 1px solid gray;flex-grow: 1;}#sk-8b4cd932-c9e2-4981-90d2-7ac8e6c465f0 div.sk-label:hover label.sk-toggleable__label {background-color: #d4ebff;}#sk-8b4cd932-c9e2-4981-90d2-7ac8e6c465f0 div.sk-serial::before {content: \"\";position: absolute;border-left: 1px solid gray;box-sizing: border-box;top: 2em;bottom: 0;left: 50%;}#sk-8b4cd932-c9e2-4981-90d2-7ac8e6c465f0 div.sk-serial {display: flex;flex-direction: column;align-items: center;background-color: white;padding-right: 0.2em;padding-left: 0.2em;}#sk-8b4cd932-c9e2-4981-90d2-7ac8e6c465f0 div.sk-item {z-index: 1;}#sk-8b4cd932-c9e2-4981-90d2-7ac8e6c465f0 div.sk-parallel {display: flex;align-items: stretch;justify-content: center;background-color: white;}#sk-8b4cd932-c9e2-4981-90d2-7ac8e6c465f0 div.sk-parallel::before {content: \"\";position: absolute;border-left: 1px solid gray;box-sizing: border-box;top: 2em;bottom: 0;left: 50%;}#sk-8b4cd932-c9e2-4981-90d2-7ac8e6c465f0 div.sk-parallel-item {display: flex;flex-direction: column;position: relative;background-color: white;}#sk-8b4cd932-c9e2-4981-90d2-7ac8e6c465f0 div.sk-parallel-item:first-child::after {align-self: flex-end;width: 50%;}#sk-8b4cd932-c9e2-4981-90d2-7ac8e6c465f0 div.sk-parallel-item:last-child::after {align-self: flex-start;width: 50%;}#sk-8b4cd932-c9e2-4981-90d2-7ac8e6c465f0 div.sk-parallel-item:only-child::after {width: 0;}#sk-8b4cd932-c9e2-4981-90d2-7ac8e6c465f0 div.sk-dashed-wrapped {border: 1px dashed gray;margin: 0 0.4em 0.5em 0.4em;box-sizing: border-box;padding-bottom: 0.4em;background-color: white;position: relative;}#sk-8b4cd932-c9e2-4981-90d2-7ac8e6c465f0 div.sk-label label {font-family: monospace;font-weight: bold;background-color: white;display: inline-block;line-height: 1.2em;}#sk-8b4cd932-c9e2-4981-90d2-7ac8e6c465f0 div.sk-label-container {position: relative;z-index: 2;text-align: center;}#sk-8b4cd932-c9e2-4981-90d2-7ac8e6c465f0 div.sk-container {/* jupyter's `normalize.less` sets `[hidden] { display: none; }` but bootstrap.min.css set `[hidden] { display: none !important; }` so we also need the `!important` here to be able to override the default hidden behavior on the sphinx rendered scikit-learn.org. See: https://github.com/scikit-learn/scikit-learn/issues/21755 */display: inline-block !important;position: relative;}#sk-8b4cd932-c9e2-4981-90d2-7ac8e6c465f0 div.sk-text-repr-fallback {display: none;}</style><div id=\"sk-8b4cd932-c9e2-4981-90d2-7ac8e6c465f0\" class=\"sk-top-container\"><div class=\"sk-text-repr-fallback\"><pre>Pipeline(steps=[(&#x27;preprocessor&#x27;,\n",
              "                 ColumnTransformer(transformers=[(&#x27;numeric&#x27;,\n",
              "                                                  Pipeline(steps=[(&#x27;imputer&#x27;,\n",
              "                                                                   SimpleImputer()),\n",
              "                                                                  (&#x27;scaler&#x27;,\n",
              "                                                                   StandardScaler())]),\n",
              "                                                  Index([&#x27;SeniorCitizen&#x27;, &#x27;tenure&#x27;, &#x27;MonthlyCharges&#x27;, &#x27;TotalCharges&#x27;], dtype=&#x27;object&#x27;)),\n",
              "                                                 (&#x27;categorical&#x27;,\n",
              "                                                  Pipeline(steps=[(&#x27;imputer&#x27;,\n",
              "                                                                   SimpleImputer(strategy=&#x27;constant&#x27;)),\n",
              "                                                                  (&#x27;encoder&#x27;,\n",
              "                                                                   OrdinalEncoder())]),\n",
              "                                                  [&#x27;Multiple...\n",
              "                                                   &#x27;InternetService&#x27;,\n",
              "                                                   &#x27;OnlineSecurity&#x27;,\n",
              "                                                   &#x27;OnlineBackup&#x27;,\n",
              "                                                   &#x27;DeviceProtection&#x27;,\n",
              "                                                   &#x27;TechSupport&#x27;, &#x27;StreamingTV&#x27;,\n",
              "                                                   &#x27;StreamingMovies&#x27;,\n",
              "                                                   &#x27;Contract&#x27;,\n",
              "                                                   &#x27;PaymentMethod&#x27;]),\n",
              "                                                 (&#x27;categorical2&#x27;,\n",
              "                                                  Pipeline(steps=[(&#x27;imputer&#x27;,\n",
              "                                                                   SimpleImputer(strategy=&#x27;constant&#x27;)),\n",
              "                                                                  (&#x27;encoder&#x27;,\n",
              "                                                                   OneHotEncoder())]),\n",
              "                                                  [&#x27;gender&#x27;, &#x27;Partner&#x27;,\n",
              "                                                   &#x27;Dependents&#x27;, &#x27;PhoneService&#x27;,\n",
              "                                                   &#x27;PaperlessBilling&#x27;])])),\n",
              "                (&#x27;classifier&#x27;, RandomForestClassifier())])</pre><b>Please rerun this cell to show the HTML repr or trust the notebook.</b></div><div class=\"sk-container\" hidden><div class=\"sk-item sk-dashed-wrapped\"><div class=\"sk-label-container\"><div class=\"sk-label sk-toggleable\"><input class=\"sk-toggleable__control sk-hidden--visually\" id=\"ec690b71-6e30-49cd-a86c-2c402b23eb21\" type=\"checkbox\" ><label for=\"ec690b71-6e30-49cd-a86c-2c402b23eb21\" class=\"sk-toggleable__label sk-toggleable__label-arrow\">Pipeline</label><div class=\"sk-toggleable__content\"><pre>Pipeline(steps=[(&#x27;preprocessor&#x27;,\n",
              "                 ColumnTransformer(transformers=[(&#x27;numeric&#x27;,\n",
              "                                                  Pipeline(steps=[(&#x27;imputer&#x27;,\n",
              "                                                                   SimpleImputer()),\n",
              "                                                                  (&#x27;scaler&#x27;,\n",
              "                                                                   StandardScaler())]),\n",
              "                                                  Index([&#x27;SeniorCitizen&#x27;, &#x27;tenure&#x27;, &#x27;MonthlyCharges&#x27;, &#x27;TotalCharges&#x27;], dtype=&#x27;object&#x27;)),\n",
              "                                                 (&#x27;categorical&#x27;,\n",
              "                                                  Pipeline(steps=[(&#x27;imputer&#x27;,\n",
              "                                                                   SimpleImputer(strategy=&#x27;constant&#x27;)),\n",
              "                                                                  (&#x27;encoder&#x27;,\n",
              "                                                                   OrdinalEncoder())]),\n",
              "                                                  [&#x27;Multiple...\n",
              "                                                   &#x27;InternetService&#x27;,\n",
              "                                                   &#x27;OnlineSecurity&#x27;,\n",
              "                                                   &#x27;OnlineBackup&#x27;,\n",
              "                                                   &#x27;DeviceProtection&#x27;,\n",
              "                                                   &#x27;TechSupport&#x27;, &#x27;StreamingTV&#x27;,\n",
              "                                                   &#x27;StreamingMovies&#x27;,\n",
              "                                                   &#x27;Contract&#x27;,\n",
              "                                                   &#x27;PaymentMethod&#x27;]),\n",
              "                                                 (&#x27;categorical2&#x27;,\n",
              "                                                  Pipeline(steps=[(&#x27;imputer&#x27;,\n",
              "                                                                   SimpleImputer(strategy=&#x27;constant&#x27;)),\n",
              "                                                                  (&#x27;encoder&#x27;,\n",
              "                                                                   OneHotEncoder())]),\n",
              "                                                  [&#x27;gender&#x27;, &#x27;Partner&#x27;,\n",
              "                                                   &#x27;Dependents&#x27;, &#x27;PhoneService&#x27;,\n",
              "                                                   &#x27;PaperlessBilling&#x27;])])),\n",
              "                (&#x27;classifier&#x27;, RandomForestClassifier())])</pre></div></div></div><div class=\"sk-serial\"><div class=\"sk-item sk-dashed-wrapped\"><div class=\"sk-label-container\"><div class=\"sk-label sk-toggleable\"><input class=\"sk-toggleable__control sk-hidden--visually\" id=\"7db17222-2d73-4586-af5b-b0c99f55d8f5\" type=\"checkbox\" ><label for=\"7db17222-2d73-4586-af5b-b0c99f55d8f5\" class=\"sk-toggleable__label sk-toggleable__label-arrow\">preprocessor: ColumnTransformer</label><div class=\"sk-toggleable__content\"><pre>ColumnTransformer(transformers=[(&#x27;numeric&#x27;,\n",
              "                                 Pipeline(steps=[(&#x27;imputer&#x27;, SimpleImputer()),\n",
              "                                                 (&#x27;scaler&#x27;, StandardScaler())]),\n",
              "                                 Index([&#x27;SeniorCitizen&#x27;, &#x27;tenure&#x27;, &#x27;MonthlyCharges&#x27;, &#x27;TotalCharges&#x27;], dtype=&#x27;object&#x27;)),\n",
              "                                (&#x27;categorical&#x27;,\n",
              "                                 Pipeline(steps=[(&#x27;imputer&#x27;,\n",
              "                                                  SimpleImputer(strategy=&#x27;constant&#x27;)),\n",
              "                                                 (&#x27;encoder&#x27;,\n",
              "                                                  OrdinalEncoder())]),\n",
              "                                 [&#x27;MultipleLines&#x27;, &#x27;InternetService&#x27;,\n",
              "                                  &#x27;OnlineSecurity&#x27;, &#x27;OnlineBackup&#x27;,\n",
              "                                  &#x27;DeviceProtection&#x27;, &#x27;TechSupport&#x27;,\n",
              "                                  &#x27;StreamingTV&#x27;, &#x27;StreamingMovies&#x27;, &#x27;Contract&#x27;,\n",
              "                                  &#x27;PaymentMethod&#x27;]),\n",
              "                                (&#x27;categorical2&#x27;,\n",
              "                                 Pipeline(steps=[(&#x27;imputer&#x27;,\n",
              "                                                  SimpleImputer(strategy=&#x27;constant&#x27;)),\n",
              "                                                 (&#x27;encoder&#x27;, OneHotEncoder())]),\n",
              "                                 [&#x27;gender&#x27;, &#x27;Partner&#x27;, &#x27;Dependents&#x27;,\n",
              "                                  &#x27;PhoneService&#x27;, &#x27;PaperlessBilling&#x27;])])</pre></div></div></div><div class=\"sk-parallel\"><div class=\"sk-parallel-item\"><div class=\"sk-item\"><div class=\"sk-label-container\"><div class=\"sk-label sk-toggleable\"><input class=\"sk-toggleable__control sk-hidden--visually\" id=\"6942c733-b8c6-4b4b-86f0-4e49b29aa6fb\" type=\"checkbox\" ><label for=\"6942c733-b8c6-4b4b-86f0-4e49b29aa6fb\" class=\"sk-toggleable__label sk-toggleable__label-arrow\">numeric</label><div class=\"sk-toggleable__content\"><pre>Index([&#x27;SeniorCitizen&#x27;, &#x27;tenure&#x27;, &#x27;MonthlyCharges&#x27;, &#x27;TotalCharges&#x27;], dtype=&#x27;object&#x27;)</pre></div></div></div><div class=\"sk-serial\"><div class=\"sk-item\"><div class=\"sk-serial\"><div class=\"sk-item\"><div class=\"sk-estimator sk-toggleable\"><input class=\"sk-toggleable__control sk-hidden--visually\" id=\"63318e0f-7a61-4261-af05-473063520f02\" type=\"checkbox\" ><label for=\"63318e0f-7a61-4261-af05-473063520f02\" class=\"sk-toggleable__label sk-toggleable__label-arrow\">SimpleImputer</label><div class=\"sk-toggleable__content\"><pre>SimpleImputer()</pre></div></div></div><div class=\"sk-item\"><div class=\"sk-estimator sk-toggleable\"><input class=\"sk-toggleable__control sk-hidden--visually\" id=\"da61c79e-4d2c-4c37-8af3-99955af18853\" type=\"checkbox\" ><label for=\"da61c79e-4d2c-4c37-8af3-99955af18853\" class=\"sk-toggleable__label sk-toggleable__label-arrow\">StandardScaler</label><div class=\"sk-toggleable__content\"><pre>StandardScaler()</pre></div></div></div></div></div></div></div></div><div class=\"sk-parallel-item\"><div class=\"sk-item\"><div class=\"sk-label-container\"><div class=\"sk-label sk-toggleable\"><input class=\"sk-toggleable__control sk-hidden--visually\" id=\"95dea1b6-4f42-4d03-918b-a3f0a04bf3fb\" type=\"checkbox\" ><label for=\"95dea1b6-4f42-4d03-918b-a3f0a04bf3fb\" class=\"sk-toggleable__label sk-toggleable__label-arrow\">categorical</label><div class=\"sk-toggleable__content\"><pre>[&#x27;MultipleLines&#x27;, &#x27;InternetService&#x27;, &#x27;OnlineSecurity&#x27;, &#x27;OnlineBackup&#x27;, &#x27;DeviceProtection&#x27;, &#x27;TechSupport&#x27;, &#x27;StreamingTV&#x27;, &#x27;StreamingMovies&#x27;, &#x27;Contract&#x27;, &#x27;PaymentMethod&#x27;]</pre></div></div></div><div class=\"sk-serial\"><div class=\"sk-item\"><div class=\"sk-serial\"><div class=\"sk-item\"><div class=\"sk-estimator sk-toggleable\"><input class=\"sk-toggleable__control sk-hidden--visually\" id=\"6c1941e9-3fd0-4193-aa43-179d90fb37b3\" type=\"checkbox\" ><label for=\"6c1941e9-3fd0-4193-aa43-179d90fb37b3\" class=\"sk-toggleable__label sk-toggleable__label-arrow\">SimpleImputer</label><div class=\"sk-toggleable__content\"><pre>SimpleImputer(strategy=&#x27;constant&#x27;)</pre></div></div></div><div class=\"sk-item\"><div class=\"sk-estimator sk-toggleable\"><input class=\"sk-toggleable__control sk-hidden--visually\" id=\"8e272943-102f-4d53-84cd-6009ace559a3\" type=\"checkbox\" ><label for=\"8e272943-102f-4d53-84cd-6009ace559a3\" class=\"sk-toggleable__label sk-toggleable__label-arrow\">OrdinalEncoder</label><div class=\"sk-toggleable__content\"><pre>OrdinalEncoder()</pre></div></div></div></div></div></div></div></div><div class=\"sk-parallel-item\"><div class=\"sk-item\"><div class=\"sk-label-container\"><div class=\"sk-label sk-toggleable\"><input class=\"sk-toggleable__control sk-hidden--visually\" id=\"3d9cb382-a50d-409e-b6a3-dc6b3c0a1d7e\" type=\"checkbox\" ><label for=\"3d9cb382-a50d-409e-b6a3-dc6b3c0a1d7e\" class=\"sk-toggleable__label sk-toggleable__label-arrow\">categorical2</label><div class=\"sk-toggleable__content\"><pre>[&#x27;gender&#x27;, &#x27;Partner&#x27;, &#x27;Dependents&#x27;, &#x27;PhoneService&#x27;, &#x27;PaperlessBilling&#x27;]</pre></div></div></div><div class=\"sk-serial\"><div class=\"sk-item\"><div class=\"sk-serial\"><div class=\"sk-item\"><div class=\"sk-estimator sk-toggleable\"><input class=\"sk-toggleable__control sk-hidden--visually\" id=\"993c7ebd-c10d-483e-ba25-1e222bbd0904\" type=\"checkbox\" ><label for=\"993c7ebd-c10d-483e-ba25-1e222bbd0904\" class=\"sk-toggleable__label sk-toggleable__label-arrow\">SimpleImputer</label><div class=\"sk-toggleable__content\"><pre>SimpleImputer(strategy=&#x27;constant&#x27;)</pre></div></div></div><div class=\"sk-item\"><div class=\"sk-estimator sk-toggleable\"><input class=\"sk-toggleable__control sk-hidden--visually\" id=\"c67b096c-1943-4145-a007-a5aa2e6a0758\" type=\"checkbox\" ><label for=\"c67b096c-1943-4145-a007-a5aa2e6a0758\" class=\"sk-toggleable__label sk-toggleable__label-arrow\">OneHotEncoder</label><div class=\"sk-toggleable__content\"><pre>OneHotEncoder()</pre></div></div></div></div></div></div></div></div></div></div><div class=\"sk-item\"><div class=\"sk-estimator sk-toggleable\"><input class=\"sk-toggleable__control sk-hidden--visually\" id=\"ca165f4e-0f7e-4c50-a7a1-19a78d405b7c\" type=\"checkbox\" ><label for=\"ca165f4e-0f7e-4c50-a7a1-19a78d405b7c\" class=\"sk-toggleable__label sk-toggleable__label-arrow\">RandomForestClassifier</label><div class=\"sk-toggleable__content\"><pre>RandomForestClassifier()</pre></div></div></div></div></div></div></div>"
            ]
          },
          "metadata": {},
          "execution_count": 57
        }
      ],
      "source": [
        "from sklearn import set_config\n",
        "set_config(display='diagram')\n",
        "pipeline"
      ]
    },
    {
      "cell_type": "code",
      "execution_count": 58,
      "metadata": {
        "id": "rHOxIrNLo781"
      },
      "outputs": [],
      "source": [
        "from sklearn.model_selection import RandomizedSearchCV\n",
        "import numpy as np\n",
        "# Number of trees in random forest\n",
        "n_estimators = [int(x) for x in np.linspace(start = 200, stop = 2000, num = 10)]\n",
        "# Number of features to consider at every split\n",
        "max_features = ['auto', 'sqrt']\n",
        "# Maximum number of levels in tree\n",
        "max_depth = [int(x) for x in np.linspace(10, 110, num = 11)]\n",
        "max_depth.append(None)\n",
        "# Minimum number of samples required to split a node\n",
        "min_samples_split = [2, 5, 10]\n",
        "# Minimum number of samples required at each leaf node\n",
        "min_samples_leaf = [1, 2, 4]\n",
        "# Method of selecting samples for training each tree\n",
        "bootstrap = [True, False]\n",
        "# Create the random grid\n",
        "random_grid = {'classifier__n_estimators': n_estimators,\n",
        "               'classifier__max_features': max_features,\n",
        "               'classifier__max_depth': max_depth,\n",
        "               'classifier__min_samples_split': min_samples_split,\n",
        "               'classifier__min_samples_leaf': min_samples_leaf,\n",
        "               'classifier__bootstrap': bootstrap}"
      ]
    },
    {
      "cell_type": "code",
      "execution_count": 59,
      "metadata": {
        "colab": {
          "base_uri": "https://localhost:8080/",
          "height": 302
        },
        "id": "5-mn0JINpH6D",
        "outputId": "c4d557b9-e5c6-46c0-fab0-fadd84dd151a"
      },
      "outputs": [
        {
          "output_type": "stream",
          "name": "stdout",
          "text": [
            "Fitting 10 folds for each of 10 candidates, totalling 100 fits\n"
          ]
        },
        {
          "output_type": "stream",
          "name": "stderr",
          "text": [
            "/usr/local/lib/python3.8/dist-packages/joblib/externals/loky/process_executor.py:700: UserWarning: A worker stopped while some jobs were given to the executor. This can be caused by a too short worker timeout or by a memory leak.\n",
            "  warnings.warn(\n"
          ]
        },
        {
          "output_type": "execute_result",
          "data": {
            "text/plain": [
              "RandomizedSearchCV(cv=10,\n",
              "                   estimator=Pipeline(steps=[('preprocessor',\n",
              "                                              ColumnTransformer(transformers=[('numeric',\n",
              "                                                                               Pipeline(steps=[('imputer',\n",
              "                                                                                                SimpleImputer()),\n",
              "                                                                                               ('scaler',\n",
              "                                                                                                StandardScaler())]),\n",
              "                                                                               Index(['SeniorCitizen', 'tenure', 'MonthlyCharges', 'TotalCharges'], dtype='object')),\n",
              "                                                                              ('categorical',\n",
              "                                                                               Pipeline(steps=[('imputer',\n",
              "                                                                                                SimpleImputer(strategy='constant')),\n",
              "                                                                                               ('enco...\n",
              "                   param_distributions={'classifier__bootstrap': [True, False],\n",
              "                                        'classifier__max_depth': [10, 20, 30,\n",
              "                                                                  40, 50, 60,\n",
              "                                                                  70, 80, 90,\n",
              "                                                                  100, 110,\n",
              "                                                                  None],\n",
              "                                        'classifier__max_features': ['auto',\n",
              "                                                                     'sqrt'],\n",
              "                                        'classifier__min_samples_leaf': [1, 2,\n",
              "                                                                         4],\n",
              "                                        'classifier__min_samples_split': [2, 5,\n",
              "                                                                          10],\n",
              "                                        'classifier__n_estimators': [200, 400,\n",
              "                                                                     600, 800,\n",
              "                                                                     1000, 1200,\n",
              "                                                                     1400, 1600,\n",
              "                                                                     1800,\n",
              "                                                                     2000]},\n",
              "                   scoring='roc_auc', verbose=1)"
            ],
            "text/html": [
              "<style>#sk-44dfce08-1746-488a-8105-77c7319ffc8b {color: black;background-color: white;}#sk-44dfce08-1746-488a-8105-77c7319ffc8b pre{padding: 0;}#sk-44dfce08-1746-488a-8105-77c7319ffc8b div.sk-toggleable {background-color: white;}#sk-44dfce08-1746-488a-8105-77c7319ffc8b label.sk-toggleable__label {cursor: pointer;display: block;width: 100%;margin-bottom: 0;padding: 0.3em;box-sizing: border-box;text-align: center;}#sk-44dfce08-1746-488a-8105-77c7319ffc8b label.sk-toggleable__label-arrow:before {content: \"▸\";float: left;margin-right: 0.25em;color: #696969;}#sk-44dfce08-1746-488a-8105-77c7319ffc8b label.sk-toggleable__label-arrow:hover:before {color: black;}#sk-44dfce08-1746-488a-8105-77c7319ffc8b div.sk-estimator:hover label.sk-toggleable__label-arrow:before {color: black;}#sk-44dfce08-1746-488a-8105-77c7319ffc8b div.sk-toggleable__content {max-height: 0;max-width: 0;overflow: hidden;text-align: left;background-color: #f0f8ff;}#sk-44dfce08-1746-488a-8105-77c7319ffc8b div.sk-toggleable__content pre {margin: 0.2em;color: black;border-radius: 0.25em;background-color: #f0f8ff;}#sk-44dfce08-1746-488a-8105-77c7319ffc8b input.sk-toggleable__control:checked~div.sk-toggleable__content {max-height: 200px;max-width: 100%;overflow: auto;}#sk-44dfce08-1746-488a-8105-77c7319ffc8b input.sk-toggleable__control:checked~label.sk-toggleable__label-arrow:before {content: \"▾\";}#sk-44dfce08-1746-488a-8105-77c7319ffc8b div.sk-estimator input.sk-toggleable__control:checked~label.sk-toggleable__label {background-color: #d4ebff;}#sk-44dfce08-1746-488a-8105-77c7319ffc8b div.sk-label input.sk-toggleable__control:checked~label.sk-toggleable__label {background-color: #d4ebff;}#sk-44dfce08-1746-488a-8105-77c7319ffc8b input.sk-hidden--visually {border: 0;clip: rect(1px 1px 1px 1px);clip: rect(1px, 1px, 1px, 1px);height: 1px;margin: -1px;overflow: hidden;padding: 0;position: absolute;width: 1px;}#sk-44dfce08-1746-488a-8105-77c7319ffc8b div.sk-estimator {font-family: monospace;background-color: #f0f8ff;border: 1px dotted black;border-radius: 0.25em;box-sizing: border-box;margin-bottom: 0.5em;}#sk-44dfce08-1746-488a-8105-77c7319ffc8b div.sk-estimator:hover {background-color: #d4ebff;}#sk-44dfce08-1746-488a-8105-77c7319ffc8b div.sk-parallel-item::after {content: \"\";width: 100%;border-bottom: 1px solid gray;flex-grow: 1;}#sk-44dfce08-1746-488a-8105-77c7319ffc8b div.sk-label:hover label.sk-toggleable__label {background-color: #d4ebff;}#sk-44dfce08-1746-488a-8105-77c7319ffc8b div.sk-serial::before {content: \"\";position: absolute;border-left: 1px solid gray;box-sizing: border-box;top: 2em;bottom: 0;left: 50%;}#sk-44dfce08-1746-488a-8105-77c7319ffc8b div.sk-serial {display: flex;flex-direction: column;align-items: center;background-color: white;padding-right: 0.2em;padding-left: 0.2em;}#sk-44dfce08-1746-488a-8105-77c7319ffc8b div.sk-item {z-index: 1;}#sk-44dfce08-1746-488a-8105-77c7319ffc8b div.sk-parallel {display: flex;align-items: stretch;justify-content: center;background-color: white;}#sk-44dfce08-1746-488a-8105-77c7319ffc8b div.sk-parallel::before {content: \"\";position: absolute;border-left: 1px solid gray;box-sizing: border-box;top: 2em;bottom: 0;left: 50%;}#sk-44dfce08-1746-488a-8105-77c7319ffc8b div.sk-parallel-item {display: flex;flex-direction: column;position: relative;background-color: white;}#sk-44dfce08-1746-488a-8105-77c7319ffc8b div.sk-parallel-item:first-child::after {align-self: flex-end;width: 50%;}#sk-44dfce08-1746-488a-8105-77c7319ffc8b div.sk-parallel-item:last-child::after {align-self: flex-start;width: 50%;}#sk-44dfce08-1746-488a-8105-77c7319ffc8b div.sk-parallel-item:only-child::after {width: 0;}#sk-44dfce08-1746-488a-8105-77c7319ffc8b div.sk-dashed-wrapped {border: 1px dashed gray;margin: 0 0.4em 0.5em 0.4em;box-sizing: border-box;padding-bottom: 0.4em;background-color: white;position: relative;}#sk-44dfce08-1746-488a-8105-77c7319ffc8b div.sk-label label {font-family: monospace;font-weight: bold;background-color: white;display: inline-block;line-height: 1.2em;}#sk-44dfce08-1746-488a-8105-77c7319ffc8b div.sk-label-container {position: relative;z-index: 2;text-align: center;}#sk-44dfce08-1746-488a-8105-77c7319ffc8b div.sk-container {/* jupyter's `normalize.less` sets `[hidden] { display: none; }` but bootstrap.min.css set `[hidden] { display: none !important; }` so we also need the `!important` here to be able to override the default hidden behavior on the sphinx rendered scikit-learn.org. See: https://github.com/scikit-learn/scikit-learn/issues/21755 */display: inline-block !important;position: relative;}#sk-44dfce08-1746-488a-8105-77c7319ffc8b div.sk-text-repr-fallback {display: none;}</style><div id=\"sk-44dfce08-1746-488a-8105-77c7319ffc8b\" class=\"sk-top-container\"><div class=\"sk-text-repr-fallback\"><pre>RandomizedSearchCV(cv=10,\n",
              "                   estimator=Pipeline(steps=[(&#x27;preprocessor&#x27;,\n",
              "                                              ColumnTransformer(transformers=[(&#x27;numeric&#x27;,\n",
              "                                                                               Pipeline(steps=[(&#x27;imputer&#x27;,\n",
              "                                                                                                SimpleImputer()),\n",
              "                                                                                               (&#x27;scaler&#x27;,\n",
              "                                                                                                StandardScaler())]),\n",
              "                                                                               Index([&#x27;SeniorCitizen&#x27;, &#x27;tenure&#x27;, &#x27;MonthlyCharges&#x27;, &#x27;TotalCharges&#x27;], dtype=&#x27;object&#x27;)),\n",
              "                                                                              (&#x27;categorical&#x27;,\n",
              "                                                                               Pipeline(steps=[(&#x27;imputer&#x27;,\n",
              "                                                                                                SimpleImputer(strategy=&#x27;constant&#x27;)),\n",
              "                                                                                               (&#x27;enco...\n",
              "                   param_distributions={&#x27;classifier__bootstrap&#x27;: [True, False],\n",
              "                                        &#x27;classifier__max_depth&#x27;: [10, 20, 30,\n",
              "                                                                  40, 50, 60,\n",
              "                                                                  70, 80, 90,\n",
              "                                                                  100, 110,\n",
              "                                                                  None],\n",
              "                                        &#x27;classifier__max_features&#x27;: [&#x27;auto&#x27;,\n",
              "                                                                     &#x27;sqrt&#x27;],\n",
              "                                        &#x27;classifier__min_samples_leaf&#x27;: [1, 2,\n",
              "                                                                         4],\n",
              "                                        &#x27;classifier__min_samples_split&#x27;: [2, 5,\n",
              "                                                                          10],\n",
              "                                        &#x27;classifier__n_estimators&#x27;: [200, 400,\n",
              "                                                                     600, 800,\n",
              "                                                                     1000, 1200,\n",
              "                                                                     1400, 1600,\n",
              "                                                                     1800,\n",
              "                                                                     2000]},\n",
              "                   scoring=&#x27;roc_auc&#x27;, verbose=1)</pre><b>Please rerun this cell to show the HTML repr or trust the notebook.</b></div><div class=\"sk-container\" hidden><div class=\"sk-item sk-dashed-wrapped\"><div class=\"sk-label-container\"><div class=\"sk-label sk-toggleable\"><input class=\"sk-toggleable__control sk-hidden--visually\" id=\"311d4d49-51ba-4388-8942-ebeb0a8851f6\" type=\"checkbox\" ><label for=\"311d4d49-51ba-4388-8942-ebeb0a8851f6\" class=\"sk-toggleable__label sk-toggleable__label-arrow\">RandomizedSearchCV</label><div class=\"sk-toggleable__content\"><pre>RandomizedSearchCV(cv=10,\n",
              "                   estimator=Pipeline(steps=[(&#x27;preprocessor&#x27;,\n",
              "                                              ColumnTransformer(transformers=[(&#x27;numeric&#x27;,\n",
              "                                                                               Pipeline(steps=[(&#x27;imputer&#x27;,\n",
              "                                                                                                SimpleImputer()),\n",
              "                                                                                               (&#x27;scaler&#x27;,\n",
              "                                                                                                StandardScaler())]),\n",
              "                                                                               Index([&#x27;SeniorCitizen&#x27;, &#x27;tenure&#x27;, &#x27;MonthlyCharges&#x27;, &#x27;TotalCharges&#x27;], dtype=&#x27;object&#x27;)),\n",
              "                                                                              (&#x27;categorical&#x27;,\n",
              "                                                                               Pipeline(steps=[(&#x27;imputer&#x27;,\n",
              "                                                                                                SimpleImputer(strategy=&#x27;constant&#x27;)),\n",
              "                                                                                               (&#x27;enco...\n",
              "                   param_distributions={&#x27;classifier__bootstrap&#x27;: [True, False],\n",
              "                                        &#x27;classifier__max_depth&#x27;: [10, 20, 30,\n",
              "                                                                  40, 50, 60,\n",
              "                                                                  70, 80, 90,\n",
              "                                                                  100, 110,\n",
              "                                                                  None],\n",
              "                                        &#x27;classifier__max_features&#x27;: [&#x27;auto&#x27;,\n",
              "                                                                     &#x27;sqrt&#x27;],\n",
              "                                        &#x27;classifier__min_samples_leaf&#x27;: [1, 2,\n",
              "                                                                         4],\n",
              "                                        &#x27;classifier__min_samples_split&#x27;: [2, 5,\n",
              "                                                                          10],\n",
              "                                        &#x27;classifier__n_estimators&#x27;: [200, 400,\n",
              "                                                                     600, 800,\n",
              "                                                                     1000, 1200,\n",
              "                                                                     1400, 1600,\n",
              "                                                                     1800,\n",
              "                                                                     2000]},\n",
              "                   scoring=&#x27;roc_auc&#x27;, verbose=1)</pre></div></div></div><div class=\"sk-parallel\"><div class=\"sk-parallel-item\"><div class=\"sk-item\"><div class=\"sk-serial\"><div class=\"sk-item\"><div class=\"sk-serial\"><div class=\"sk-item sk-dashed-wrapped\"><div class=\"sk-label-container\"><div class=\"sk-label sk-toggleable\"><input class=\"sk-toggleable__control sk-hidden--visually\" id=\"9c0f3803-fbc1-488b-9e92-9605670a849c\" type=\"checkbox\" ><label for=\"9c0f3803-fbc1-488b-9e92-9605670a849c\" class=\"sk-toggleable__label sk-toggleable__label-arrow\">preprocessor: ColumnTransformer</label><div class=\"sk-toggleable__content\"><pre>ColumnTransformer(transformers=[(&#x27;numeric&#x27;,\n",
              "                                 Pipeline(steps=[(&#x27;imputer&#x27;, SimpleImputer()),\n",
              "                                                 (&#x27;scaler&#x27;, StandardScaler())]),\n",
              "                                 Index([&#x27;SeniorCitizen&#x27;, &#x27;tenure&#x27;, &#x27;MonthlyCharges&#x27;, &#x27;TotalCharges&#x27;], dtype=&#x27;object&#x27;)),\n",
              "                                (&#x27;categorical&#x27;,\n",
              "                                 Pipeline(steps=[(&#x27;imputer&#x27;,\n",
              "                                                  SimpleImputer(strategy=&#x27;constant&#x27;)),\n",
              "                                                 (&#x27;encoder&#x27;,\n",
              "                                                  OrdinalEncoder())]),\n",
              "                                 [&#x27;MultipleLines&#x27;, &#x27;InternetService&#x27;,\n",
              "                                  &#x27;OnlineSecurity&#x27;, &#x27;OnlineBackup&#x27;,\n",
              "                                  &#x27;DeviceProtection&#x27;, &#x27;TechSupport&#x27;,\n",
              "                                  &#x27;StreamingTV&#x27;, &#x27;StreamingMovies&#x27;, &#x27;Contract&#x27;,\n",
              "                                  &#x27;PaymentMethod&#x27;]),\n",
              "                                (&#x27;categorical2&#x27;,\n",
              "                                 Pipeline(steps=[(&#x27;imputer&#x27;,\n",
              "                                                  SimpleImputer(strategy=&#x27;constant&#x27;)),\n",
              "                                                 (&#x27;encoder&#x27;, OneHotEncoder())]),\n",
              "                                 [&#x27;gender&#x27;, &#x27;Partner&#x27;, &#x27;Dependents&#x27;,\n",
              "                                  &#x27;PhoneService&#x27;, &#x27;PaperlessBilling&#x27;])])</pre></div></div></div><div class=\"sk-parallel\"><div class=\"sk-parallel-item\"><div class=\"sk-item\"><div class=\"sk-label-container\"><div class=\"sk-label sk-toggleable\"><input class=\"sk-toggleable__control sk-hidden--visually\" id=\"708a78fb-29e1-4018-b7b8-cfefdf7c9bb0\" type=\"checkbox\" ><label for=\"708a78fb-29e1-4018-b7b8-cfefdf7c9bb0\" class=\"sk-toggleable__label sk-toggleable__label-arrow\">numeric</label><div class=\"sk-toggleable__content\"><pre>Index([&#x27;SeniorCitizen&#x27;, &#x27;tenure&#x27;, &#x27;MonthlyCharges&#x27;, &#x27;TotalCharges&#x27;], dtype=&#x27;object&#x27;)</pre></div></div></div><div class=\"sk-serial\"><div class=\"sk-item\"><div class=\"sk-serial\"><div class=\"sk-item\"><div class=\"sk-estimator sk-toggleable\"><input class=\"sk-toggleable__control sk-hidden--visually\" id=\"0d32ae4d-dd30-4033-b41a-2121a95eb89f\" type=\"checkbox\" ><label for=\"0d32ae4d-dd30-4033-b41a-2121a95eb89f\" class=\"sk-toggleable__label sk-toggleable__label-arrow\">SimpleImputer</label><div class=\"sk-toggleable__content\"><pre>SimpleImputer()</pre></div></div></div><div class=\"sk-item\"><div class=\"sk-estimator sk-toggleable\"><input class=\"sk-toggleable__control sk-hidden--visually\" id=\"55b7c8ab-7e6c-4b8c-abb1-9f282314694b\" type=\"checkbox\" ><label for=\"55b7c8ab-7e6c-4b8c-abb1-9f282314694b\" class=\"sk-toggleable__label sk-toggleable__label-arrow\">StandardScaler</label><div class=\"sk-toggleable__content\"><pre>StandardScaler()</pre></div></div></div></div></div></div></div></div><div class=\"sk-parallel-item\"><div class=\"sk-item\"><div class=\"sk-label-container\"><div class=\"sk-label sk-toggleable\"><input class=\"sk-toggleable__control sk-hidden--visually\" id=\"9f65a310-6ae4-41ea-b175-1d2b774b3b35\" type=\"checkbox\" ><label for=\"9f65a310-6ae4-41ea-b175-1d2b774b3b35\" class=\"sk-toggleable__label sk-toggleable__label-arrow\">categorical</label><div class=\"sk-toggleable__content\"><pre>[&#x27;MultipleLines&#x27;, &#x27;InternetService&#x27;, &#x27;OnlineSecurity&#x27;, &#x27;OnlineBackup&#x27;, &#x27;DeviceProtection&#x27;, &#x27;TechSupport&#x27;, &#x27;StreamingTV&#x27;, &#x27;StreamingMovies&#x27;, &#x27;Contract&#x27;, &#x27;PaymentMethod&#x27;]</pre></div></div></div><div class=\"sk-serial\"><div class=\"sk-item\"><div class=\"sk-serial\"><div class=\"sk-item\"><div class=\"sk-estimator sk-toggleable\"><input class=\"sk-toggleable__control sk-hidden--visually\" id=\"c25ee01a-65cd-48e5-9e4e-fd69aa3d553e\" type=\"checkbox\" ><label for=\"c25ee01a-65cd-48e5-9e4e-fd69aa3d553e\" class=\"sk-toggleable__label sk-toggleable__label-arrow\">SimpleImputer</label><div class=\"sk-toggleable__content\"><pre>SimpleImputer(strategy=&#x27;constant&#x27;)</pre></div></div></div><div class=\"sk-item\"><div class=\"sk-estimator sk-toggleable\"><input class=\"sk-toggleable__control sk-hidden--visually\" id=\"3075bb5e-4a50-42df-9b78-fa3644bf2118\" type=\"checkbox\" ><label for=\"3075bb5e-4a50-42df-9b78-fa3644bf2118\" class=\"sk-toggleable__label sk-toggleable__label-arrow\">OrdinalEncoder</label><div class=\"sk-toggleable__content\"><pre>OrdinalEncoder()</pre></div></div></div></div></div></div></div></div><div class=\"sk-parallel-item\"><div class=\"sk-item\"><div class=\"sk-label-container\"><div class=\"sk-label sk-toggleable\"><input class=\"sk-toggleable__control sk-hidden--visually\" id=\"b8112da3-7a90-42fe-912b-fd6e681d8b15\" type=\"checkbox\" ><label for=\"b8112da3-7a90-42fe-912b-fd6e681d8b15\" class=\"sk-toggleable__label sk-toggleable__label-arrow\">categorical2</label><div class=\"sk-toggleable__content\"><pre>[&#x27;gender&#x27;, &#x27;Partner&#x27;, &#x27;Dependents&#x27;, &#x27;PhoneService&#x27;, &#x27;PaperlessBilling&#x27;]</pre></div></div></div><div class=\"sk-serial\"><div class=\"sk-item\"><div class=\"sk-serial\"><div class=\"sk-item\"><div class=\"sk-estimator sk-toggleable\"><input class=\"sk-toggleable__control sk-hidden--visually\" id=\"93b706ca-0e09-4d4a-83c7-875aff9493d3\" type=\"checkbox\" ><label for=\"93b706ca-0e09-4d4a-83c7-875aff9493d3\" class=\"sk-toggleable__label sk-toggleable__label-arrow\">SimpleImputer</label><div class=\"sk-toggleable__content\"><pre>SimpleImputer(strategy=&#x27;constant&#x27;)</pre></div></div></div><div class=\"sk-item\"><div class=\"sk-estimator sk-toggleable\"><input class=\"sk-toggleable__control sk-hidden--visually\" id=\"ebba3e84-eba1-41a1-86f6-7c01a466f6a0\" type=\"checkbox\" ><label for=\"ebba3e84-eba1-41a1-86f6-7c01a466f6a0\" class=\"sk-toggleable__label sk-toggleable__label-arrow\">OneHotEncoder</label><div class=\"sk-toggleable__content\"><pre>OneHotEncoder()</pre></div></div></div></div></div></div></div></div></div></div><div class=\"sk-item\"><div class=\"sk-estimator sk-toggleable\"><input class=\"sk-toggleable__control sk-hidden--visually\" id=\"77d49ea1-4662-4a9b-be27-354ffd7665ce\" type=\"checkbox\" ><label for=\"77d49ea1-4662-4a9b-be27-354ffd7665ce\" class=\"sk-toggleable__label sk-toggleable__label-arrow\">RandomForestClassifier</label><div class=\"sk-toggleable__content\"><pre>RandomForestClassifier()</pre></div></div></div></div></div></div></div></div></div></div></div></div>"
            ]
          },
          "metadata": {},
          "execution_count": 59
        }
      ],
      "source": [
        "from sklearn.model_selection import RandomizedSearchCV\n",
        "rs = RandomizedSearchCV(pipeline, random_grid, cv=10, verbose=1,n_jobs=-1,scoring='roc_auc')\n",
        "rs.fit(X_train, y_train)"
      ]
    },
    {
      "cell_type": "code",
      "execution_count": 60,
      "metadata": {
        "colab": {
          "base_uri": "https://localhost:8080/"
        },
        "id": "tR8rexJZR3Gd",
        "outputId": "3c1d3398-0242-4235-c9dd-502496d8417e"
      },
      "outputs": [
        {
          "output_type": "stream",
          "name": "stdout",
          "text": [
            "0.9502933330592982\n"
          ]
        }
      ],
      "source": [
        "score = rs.score(X_train, y_train)\n",
        "print(score)"
      ]
    },
    {
      "cell_type": "code",
      "execution_count": 61,
      "metadata": {
        "colab": {
          "base_uri": "https://localhost:8080/"
        },
        "id": "EHky32MAp-ND",
        "outputId": "898a649d-57fe-48d7-d0f5-de34e7ee6440"
      },
      "outputs": [
        {
          "output_type": "stream",
          "name": "stdout",
          "text": [
            "0.8242654945054946\n"
          ]
        }
      ],
      "source": [
        "score = rs.score(X_test, y_test)\n",
        "print(score)"
      ]
    },
    {
      "cell_type": "code",
      "execution_count": 62,
      "metadata": {
        "colab": {
          "base_uri": "https://localhost:8080/"
        },
        "id": "aA9IhS8ys1bV",
        "outputId": "3a0a62b9-0f40-40d1-942b-cbdb758fe979"
      },
      "outputs": [
        {
          "output_type": "execute_result",
          "data": {
            "text/plain": [
              "['rfc2.pkl']"
            ]
          },
          "metadata": {},
          "execution_count": 62
        }
      ],
      "source": [
        "import joblib\n",
        "joblib.dump(rs, 'rfc2.pkl')"
      ]
    },
    {
      "cell_type": "code",
      "execution_count": 63,
      "metadata": {
        "id": "U9cVC4obs_sL"
      },
      "outputs": [],
      "source": [
        "from sklearn.ensemble import GradientBoostingClassifier\n",
        "pipeline = Pipeline(steps = [\n",
        "               ('preprocessor', preprocessor)\n",
        "              ,('classifier',GradientBoostingClassifier())\n",
        "           ])"
      ]
    },
    {
      "cell_type": "code",
      "execution_count": 64,
      "metadata": {
        "id": "Qh8D7DxJv_Ke"
      },
      "outputs": [],
      "source": [
        "from scipy.stats import uniform as sp_randFloat\n",
        "from scipy.stats import randint as sp_randInt\n",
        "parameters = {\"classifier__learning_rate\": sp_randFloat(),\n",
        "                  \"classifier__subsample\"    : sp_randFloat(),\n",
        "                  \"classifier__n_estimators\" : sp_randInt(100, 1000),\n",
        "                  \"classifier__max_depth\"    : sp_randInt(4, 10)\n",
        "                 }"
      ]
    },
    {
      "cell_type": "code",
      "execution_count": 65,
      "metadata": {
        "colab": {
          "base_uri": "https://localhost:8080/",
          "height": 246
        },
        "id": "cCzzSlWUv_kd",
        "outputId": "b18831b7-d31c-43db-8a35-1e0841042ed8"
      },
      "outputs": [
        {
          "output_type": "stream",
          "name": "stdout",
          "text": [
            "Fitting 10 folds for each of 10 candidates, totalling 100 fits\n"
          ]
        },
        {
          "output_type": "execute_result",
          "data": {
            "text/plain": [
              "RandomizedSearchCV(cv=10,\n",
              "                   estimator=Pipeline(steps=[('preprocessor',\n",
              "                                              ColumnTransformer(transformers=[('numeric',\n",
              "                                                                               Pipeline(steps=[('imputer',\n",
              "                                                                                                SimpleImputer()),\n",
              "                                                                                               ('scaler',\n",
              "                                                                                                StandardScaler())]),\n",
              "                                                                               Index(['SeniorCitizen', 'tenure', 'MonthlyCharges', 'TotalCharges'], dtype='object')),\n",
              "                                                                              ('categorical',\n",
              "                                                                               Pipeline(steps=[('imputer',\n",
              "                                                                                                SimpleImputer(strategy='constant')),\n",
              "                                                                                               ('enco...\n",
              "                   param_distributions={'classifier__learning_rate': <scipy.stats._distn_infrastructure.rv_frozen object at 0x7f7224a1c520>,\n",
              "                                        'classifier__max_depth': <scipy.stats._distn_infrastructure.rv_frozen object at 0x7f7224a1c850>,\n",
              "                                        'classifier__n_estimators': <scipy.stats._distn_infrastructure.rv_frozen object at 0x7f7224a1cdf0>,\n",
              "                                        'classifier__subsample': <scipy.stats._distn_infrastructure.rv_frozen object at 0x7f7224a1ca60>},\n",
              "                   scoring='roc_auc', verbose=1)"
            ],
            "text/html": [
              "<style>#sk-6e0662a7-2139-47d3-8dd1-684a31a3271a {color: black;background-color: white;}#sk-6e0662a7-2139-47d3-8dd1-684a31a3271a pre{padding: 0;}#sk-6e0662a7-2139-47d3-8dd1-684a31a3271a div.sk-toggleable {background-color: white;}#sk-6e0662a7-2139-47d3-8dd1-684a31a3271a label.sk-toggleable__label {cursor: pointer;display: block;width: 100%;margin-bottom: 0;padding: 0.3em;box-sizing: border-box;text-align: center;}#sk-6e0662a7-2139-47d3-8dd1-684a31a3271a label.sk-toggleable__label-arrow:before {content: \"▸\";float: left;margin-right: 0.25em;color: #696969;}#sk-6e0662a7-2139-47d3-8dd1-684a31a3271a label.sk-toggleable__label-arrow:hover:before {color: black;}#sk-6e0662a7-2139-47d3-8dd1-684a31a3271a div.sk-estimator:hover label.sk-toggleable__label-arrow:before {color: black;}#sk-6e0662a7-2139-47d3-8dd1-684a31a3271a div.sk-toggleable__content {max-height: 0;max-width: 0;overflow: hidden;text-align: left;background-color: #f0f8ff;}#sk-6e0662a7-2139-47d3-8dd1-684a31a3271a div.sk-toggleable__content pre {margin: 0.2em;color: black;border-radius: 0.25em;background-color: #f0f8ff;}#sk-6e0662a7-2139-47d3-8dd1-684a31a3271a input.sk-toggleable__control:checked~div.sk-toggleable__content {max-height: 200px;max-width: 100%;overflow: auto;}#sk-6e0662a7-2139-47d3-8dd1-684a31a3271a input.sk-toggleable__control:checked~label.sk-toggleable__label-arrow:before {content: \"▾\";}#sk-6e0662a7-2139-47d3-8dd1-684a31a3271a div.sk-estimator input.sk-toggleable__control:checked~label.sk-toggleable__label {background-color: #d4ebff;}#sk-6e0662a7-2139-47d3-8dd1-684a31a3271a div.sk-label input.sk-toggleable__control:checked~label.sk-toggleable__label {background-color: #d4ebff;}#sk-6e0662a7-2139-47d3-8dd1-684a31a3271a input.sk-hidden--visually {border: 0;clip: rect(1px 1px 1px 1px);clip: rect(1px, 1px, 1px, 1px);height: 1px;margin: -1px;overflow: hidden;padding: 0;position: absolute;width: 1px;}#sk-6e0662a7-2139-47d3-8dd1-684a31a3271a div.sk-estimator {font-family: monospace;background-color: #f0f8ff;border: 1px dotted black;border-radius: 0.25em;box-sizing: border-box;margin-bottom: 0.5em;}#sk-6e0662a7-2139-47d3-8dd1-684a31a3271a div.sk-estimator:hover {background-color: #d4ebff;}#sk-6e0662a7-2139-47d3-8dd1-684a31a3271a div.sk-parallel-item::after {content: \"\";width: 100%;border-bottom: 1px solid gray;flex-grow: 1;}#sk-6e0662a7-2139-47d3-8dd1-684a31a3271a div.sk-label:hover label.sk-toggleable__label {background-color: #d4ebff;}#sk-6e0662a7-2139-47d3-8dd1-684a31a3271a div.sk-serial::before {content: \"\";position: absolute;border-left: 1px solid gray;box-sizing: border-box;top: 2em;bottom: 0;left: 50%;}#sk-6e0662a7-2139-47d3-8dd1-684a31a3271a div.sk-serial {display: flex;flex-direction: column;align-items: center;background-color: white;padding-right: 0.2em;padding-left: 0.2em;}#sk-6e0662a7-2139-47d3-8dd1-684a31a3271a div.sk-item {z-index: 1;}#sk-6e0662a7-2139-47d3-8dd1-684a31a3271a div.sk-parallel {display: flex;align-items: stretch;justify-content: center;background-color: white;}#sk-6e0662a7-2139-47d3-8dd1-684a31a3271a div.sk-parallel::before {content: \"\";position: absolute;border-left: 1px solid gray;box-sizing: border-box;top: 2em;bottom: 0;left: 50%;}#sk-6e0662a7-2139-47d3-8dd1-684a31a3271a div.sk-parallel-item {display: flex;flex-direction: column;position: relative;background-color: white;}#sk-6e0662a7-2139-47d3-8dd1-684a31a3271a div.sk-parallel-item:first-child::after {align-self: flex-end;width: 50%;}#sk-6e0662a7-2139-47d3-8dd1-684a31a3271a div.sk-parallel-item:last-child::after {align-self: flex-start;width: 50%;}#sk-6e0662a7-2139-47d3-8dd1-684a31a3271a div.sk-parallel-item:only-child::after {width: 0;}#sk-6e0662a7-2139-47d3-8dd1-684a31a3271a div.sk-dashed-wrapped {border: 1px dashed gray;margin: 0 0.4em 0.5em 0.4em;box-sizing: border-box;padding-bottom: 0.4em;background-color: white;position: relative;}#sk-6e0662a7-2139-47d3-8dd1-684a31a3271a div.sk-label label {font-family: monospace;font-weight: bold;background-color: white;display: inline-block;line-height: 1.2em;}#sk-6e0662a7-2139-47d3-8dd1-684a31a3271a div.sk-label-container {position: relative;z-index: 2;text-align: center;}#sk-6e0662a7-2139-47d3-8dd1-684a31a3271a div.sk-container {/* jupyter's `normalize.less` sets `[hidden] { display: none; }` but bootstrap.min.css set `[hidden] { display: none !important; }` so we also need the `!important` here to be able to override the default hidden behavior on the sphinx rendered scikit-learn.org. See: https://github.com/scikit-learn/scikit-learn/issues/21755 */display: inline-block !important;position: relative;}#sk-6e0662a7-2139-47d3-8dd1-684a31a3271a div.sk-text-repr-fallback {display: none;}</style><div id=\"sk-6e0662a7-2139-47d3-8dd1-684a31a3271a\" class=\"sk-top-container\"><div class=\"sk-text-repr-fallback\"><pre>RandomizedSearchCV(cv=10,\n",
              "                   estimator=Pipeline(steps=[(&#x27;preprocessor&#x27;,\n",
              "                                              ColumnTransformer(transformers=[(&#x27;numeric&#x27;,\n",
              "                                                                               Pipeline(steps=[(&#x27;imputer&#x27;,\n",
              "                                                                                                SimpleImputer()),\n",
              "                                                                                               (&#x27;scaler&#x27;,\n",
              "                                                                                                StandardScaler())]),\n",
              "                                                                               Index([&#x27;SeniorCitizen&#x27;, &#x27;tenure&#x27;, &#x27;MonthlyCharges&#x27;, &#x27;TotalCharges&#x27;], dtype=&#x27;object&#x27;)),\n",
              "                                                                              (&#x27;categorical&#x27;,\n",
              "                                                                               Pipeline(steps=[(&#x27;imputer&#x27;,\n",
              "                                                                                                SimpleImputer(strategy=&#x27;constant&#x27;)),\n",
              "                                                                                               (&#x27;enco...\n",
              "                   param_distributions={&#x27;classifier__learning_rate&#x27;: &lt;scipy.stats._distn_infrastructure.rv_frozen object at 0x7f7224a1c520&gt;,\n",
              "                                        &#x27;classifier__max_depth&#x27;: &lt;scipy.stats._distn_infrastructure.rv_frozen object at 0x7f7224a1c850&gt;,\n",
              "                                        &#x27;classifier__n_estimators&#x27;: &lt;scipy.stats._distn_infrastructure.rv_frozen object at 0x7f7224a1cdf0&gt;,\n",
              "                                        &#x27;classifier__subsample&#x27;: &lt;scipy.stats._distn_infrastructure.rv_frozen object at 0x7f7224a1ca60&gt;},\n",
              "                   scoring=&#x27;roc_auc&#x27;, verbose=1)</pre><b>Please rerun this cell to show the HTML repr or trust the notebook.</b></div><div class=\"sk-container\" hidden><div class=\"sk-item sk-dashed-wrapped\"><div class=\"sk-label-container\"><div class=\"sk-label sk-toggleable\"><input class=\"sk-toggleable__control sk-hidden--visually\" id=\"fbe65efd-14c4-4559-b166-5af1a66aebb1\" type=\"checkbox\" ><label for=\"fbe65efd-14c4-4559-b166-5af1a66aebb1\" class=\"sk-toggleable__label sk-toggleable__label-arrow\">RandomizedSearchCV</label><div class=\"sk-toggleable__content\"><pre>RandomizedSearchCV(cv=10,\n",
              "                   estimator=Pipeline(steps=[(&#x27;preprocessor&#x27;,\n",
              "                                              ColumnTransformer(transformers=[(&#x27;numeric&#x27;,\n",
              "                                                                               Pipeline(steps=[(&#x27;imputer&#x27;,\n",
              "                                                                                                SimpleImputer()),\n",
              "                                                                                               (&#x27;scaler&#x27;,\n",
              "                                                                                                StandardScaler())]),\n",
              "                                                                               Index([&#x27;SeniorCitizen&#x27;, &#x27;tenure&#x27;, &#x27;MonthlyCharges&#x27;, &#x27;TotalCharges&#x27;], dtype=&#x27;object&#x27;)),\n",
              "                                                                              (&#x27;categorical&#x27;,\n",
              "                                                                               Pipeline(steps=[(&#x27;imputer&#x27;,\n",
              "                                                                                                SimpleImputer(strategy=&#x27;constant&#x27;)),\n",
              "                                                                                               (&#x27;enco...\n",
              "                   param_distributions={&#x27;classifier__learning_rate&#x27;: &lt;scipy.stats._distn_infrastructure.rv_frozen object at 0x7f7224a1c520&gt;,\n",
              "                                        &#x27;classifier__max_depth&#x27;: &lt;scipy.stats._distn_infrastructure.rv_frozen object at 0x7f7224a1c850&gt;,\n",
              "                                        &#x27;classifier__n_estimators&#x27;: &lt;scipy.stats._distn_infrastructure.rv_frozen object at 0x7f7224a1cdf0&gt;,\n",
              "                                        &#x27;classifier__subsample&#x27;: &lt;scipy.stats._distn_infrastructure.rv_frozen object at 0x7f7224a1ca60&gt;},\n",
              "                   scoring=&#x27;roc_auc&#x27;, verbose=1)</pre></div></div></div><div class=\"sk-parallel\"><div class=\"sk-parallel-item\"><div class=\"sk-item\"><div class=\"sk-serial\"><div class=\"sk-item\"><div class=\"sk-serial\"><div class=\"sk-item sk-dashed-wrapped\"><div class=\"sk-label-container\"><div class=\"sk-label sk-toggleable\"><input class=\"sk-toggleable__control sk-hidden--visually\" id=\"38d0f922-d01f-4b9d-87c8-1c48f419c96f\" type=\"checkbox\" ><label for=\"38d0f922-d01f-4b9d-87c8-1c48f419c96f\" class=\"sk-toggleable__label sk-toggleable__label-arrow\">preprocessor: ColumnTransformer</label><div class=\"sk-toggleable__content\"><pre>ColumnTransformer(transformers=[(&#x27;numeric&#x27;,\n",
              "                                 Pipeline(steps=[(&#x27;imputer&#x27;, SimpleImputer()),\n",
              "                                                 (&#x27;scaler&#x27;, StandardScaler())]),\n",
              "                                 Index([&#x27;SeniorCitizen&#x27;, &#x27;tenure&#x27;, &#x27;MonthlyCharges&#x27;, &#x27;TotalCharges&#x27;], dtype=&#x27;object&#x27;)),\n",
              "                                (&#x27;categorical&#x27;,\n",
              "                                 Pipeline(steps=[(&#x27;imputer&#x27;,\n",
              "                                                  SimpleImputer(strategy=&#x27;constant&#x27;)),\n",
              "                                                 (&#x27;encoder&#x27;,\n",
              "                                                  OrdinalEncoder())]),\n",
              "                                 [&#x27;MultipleLines&#x27;, &#x27;InternetService&#x27;,\n",
              "                                  &#x27;OnlineSecurity&#x27;, &#x27;OnlineBackup&#x27;,\n",
              "                                  &#x27;DeviceProtection&#x27;, &#x27;TechSupport&#x27;,\n",
              "                                  &#x27;StreamingTV&#x27;, &#x27;StreamingMovies&#x27;, &#x27;Contract&#x27;,\n",
              "                                  &#x27;PaymentMethod&#x27;]),\n",
              "                                (&#x27;categorical2&#x27;,\n",
              "                                 Pipeline(steps=[(&#x27;imputer&#x27;,\n",
              "                                                  SimpleImputer(strategy=&#x27;constant&#x27;)),\n",
              "                                                 (&#x27;encoder&#x27;, OneHotEncoder())]),\n",
              "                                 [&#x27;gender&#x27;, &#x27;Partner&#x27;, &#x27;Dependents&#x27;,\n",
              "                                  &#x27;PhoneService&#x27;, &#x27;PaperlessBilling&#x27;])])</pre></div></div></div><div class=\"sk-parallel\"><div class=\"sk-parallel-item\"><div class=\"sk-item\"><div class=\"sk-label-container\"><div class=\"sk-label sk-toggleable\"><input class=\"sk-toggleable__control sk-hidden--visually\" id=\"770dca8f-c387-44c7-987d-cf41f12969d8\" type=\"checkbox\" ><label for=\"770dca8f-c387-44c7-987d-cf41f12969d8\" class=\"sk-toggleable__label sk-toggleable__label-arrow\">numeric</label><div class=\"sk-toggleable__content\"><pre>Index([&#x27;SeniorCitizen&#x27;, &#x27;tenure&#x27;, &#x27;MonthlyCharges&#x27;, &#x27;TotalCharges&#x27;], dtype=&#x27;object&#x27;)</pre></div></div></div><div class=\"sk-serial\"><div class=\"sk-item\"><div class=\"sk-serial\"><div class=\"sk-item\"><div class=\"sk-estimator sk-toggleable\"><input class=\"sk-toggleable__control sk-hidden--visually\" id=\"8480c8d2-ab85-4f36-91b2-8548ada46c11\" type=\"checkbox\" ><label for=\"8480c8d2-ab85-4f36-91b2-8548ada46c11\" class=\"sk-toggleable__label sk-toggleable__label-arrow\">SimpleImputer</label><div class=\"sk-toggleable__content\"><pre>SimpleImputer()</pre></div></div></div><div class=\"sk-item\"><div class=\"sk-estimator sk-toggleable\"><input class=\"sk-toggleable__control sk-hidden--visually\" id=\"5d0bfd1b-339d-4843-8b33-81360c268939\" type=\"checkbox\" ><label for=\"5d0bfd1b-339d-4843-8b33-81360c268939\" class=\"sk-toggleable__label sk-toggleable__label-arrow\">StandardScaler</label><div class=\"sk-toggleable__content\"><pre>StandardScaler()</pre></div></div></div></div></div></div></div></div><div class=\"sk-parallel-item\"><div class=\"sk-item\"><div class=\"sk-label-container\"><div class=\"sk-label sk-toggleable\"><input class=\"sk-toggleable__control sk-hidden--visually\" id=\"9b00c96f-3222-4d6e-965d-275de9f30268\" type=\"checkbox\" ><label for=\"9b00c96f-3222-4d6e-965d-275de9f30268\" class=\"sk-toggleable__label sk-toggleable__label-arrow\">categorical</label><div class=\"sk-toggleable__content\"><pre>[&#x27;MultipleLines&#x27;, &#x27;InternetService&#x27;, &#x27;OnlineSecurity&#x27;, &#x27;OnlineBackup&#x27;, &#x27;DeviceProtection&#x27;, &#x27;TechSupport&#x27;, &#x27;StreamingTV&#x27;, &#x27;StreamingMovies&#x27;, &#x27;Contract&#x27;, &#x27;PaymentMethod&#x27;]</pre></div></div></div><div class=\"sk-serial\"><div class=\"sk-item\"><div class=\"sk-serial\"><div class=\"sk-item\"><div class=\"sk-estimator sk-toggleable\"><input class=\"sk-toggleable__control sk-hidden--visually\" id=\"8faafa51-00e3-46ee-9e9e-3ac3562e9b60\" type=\"checkbox\" ><label for=\"8faafa51-00e3-46ee-9e9e-3ac3562e9b60\" class=\"sk-toggleable__label sk-toggleable__label-arrow\">SimpleImputer</label><div class=\"sk-toggleable__content\"><pre>SimpleImputer(strategy=&#x27;constant&#x27;)</pre></div></div></div><div class=\"sk-item\"><div class=\"sk-estimator sk-toggleable\"><input class=\"sk-toggleable__control sk-hidden--visually\" id=\"c367ada7-db5f-428b-bf45-35438a2298d1\" type=\"checkbox\" ><label for=\"c367ada7-db5f-428b-bf45-35438a2298d1\" class=\"sk-toggleable__label sk-toggleable__label-arrow\">OrdinalEncoder</label><div class=\"sk-toggleable__content\"><pre>OrdinalEncoder()</pre></div></div></div></div></div></div></div></div><div class=\"sk-parallel-item\"><div class=\"sk-item\"><div class=\"sk-label-container\"><div class=\"sk-label sk-toggleable\"><input class=\"sk-toggleable__control sk-hidden--visually\" id=\"176175b4-0a9b-44a5-9c28-7b1ce55007a5\" type=\"checkbox\" ><label for=\"176175b4-0a9b-44a5-9c28-7b1ce55007a5\" class=\"sk-toggleable__label sk-toggleable__label-arrow\">categorical2</label><div class=\"sk-toggleable__content\"><pre>[&#x27;gender&#x27;, &#x27;Partner&#x27;, &#x27;Dependents&#x27;, &#x27;PhoneService&#x27;, &#x27;PaperlessBilling&#x27;]</pre></div></div></div><div class=\"sk-serial\"><div class=\"sk-item\"><div class=\"sk-serial\"><div class=\"sk-item\"><div class=\"sk-estimator sk-toggleable\"><input class=\"sk-toggleable__control sk-hidden--visually\" id=\"bd94d61e-7b38-4c19-bc4f-d9b0f5d7881a\" type=\"checkbox\" ><label for=\"bd94d61e-7b38-4c19-bc4f-d9b0f5d7881a\" class=\"sk-toggleable__label sk-toggleable__label-arrow\">SimpleImputer</label><div class=\"sk-toggleable__content\"><pre>SimpleImputer(strategy=&#x27;constant&#x27;)</pre></div></div></div><div class=\"sk-item\"><div class=\"sk-estimator sk-toggleable\"><input class=\"sk-toggleable__control sk-hidden--visually\" id=\"1c5676ef-003e-4ce2-afc5-3012a85eca16\" type=\"checkbox\" ><label for=\"1c5676ef-003e-4ce2-afc5-3012a85eca16\" class=\"sk-toggleable__label sk-toggleable__label-arrow\">OneHotEncoder</label><div class=\"sk-toggleable__content\"><pre>OneHotEncoder()</pre></div></div></div></div></div></div></div></div></div></div><div class=\"sk-item\"><div class=\"sk-estimator sk-toggleable\"><input class=\"sk-toggleable__control sk-hidden--visually\" id=\"2fff7ddd-77a7-41e7-8fcb-80b488396bb3\" type=\"checkbox\" ><label for=\"2fff7ddd-77a7-41e7-8fcb-80b488396bb3\" class=\"sk-toggleable__label sk-toggleable__label-arrow\">GradientBoostingClassifier</label><div class=\"sk-toggleable__content\"><pre>GradientBoostingClassifier()</pre></div></div></div></div></div></div></div></div></div></div></div></div>"
            ]
          },
          "metadata": {},
          "execution_count": 65
        }
      ],
      "source": [
        "rs = RandomizedSearchCV(pipeline, parameters, cv=10, verbose=1,n_jobs=-1,scoring='roc_auc')\n",
        "rs.fit(X_train, y_train)"
      ]
    },
    {
      "cell_type": "code",
      "execution_count": 66,
      "metadata": {
        "colab": {
          "base_uri": "https://localhost:8080/"
        },
        "id": "ygMV0EN1VhP8",
        "outputId": "dab0a655-cde7-47f9-8b91-1c7b4261c763"
      },
      "outputs": [
        {
          "output_type": "stream",
          "name": "stdout",
          "text": [
            "0.9875244369750003\n"
          ]
        }
      ],
      "source": [
        "score = rs.score(X_train, y_train)\n",
        "print(score)"
      ]
    },
    {
      "cell_type": "code",
      "execution_count": 67,
      "metadata": {
        "colab": {
          "base_uri": "https://localhost:8080/"
        },
        "id": "rokLRV_syZSw",
        "outputId": "4ebdf6ce-6447-46ec-b4c8-105860f22ede"
      },
      "outputs": [
        {
          "output_type": "stream",
          "name": "stdout",
          "text": [
            "0.8148676923076923\n"
          ]
        }
      ],
      "source": [
        "score = rs.score(X_test, y_test)\n",
        "print(score)"
      ]
    },
    {
      "cell_type": "code",
      "execution_count": 68,
      "metadata": {
        "colab": {
          "base_uri": "https://localhost:8080/"
        },
        "id": "W2NALTMZ0YAN",
        "outputId": "b373ed9a-36a1-45b2-b91b-5bf53f56d6e2"
      },
      "outputs": [
        {
          "output_type": "execute_result",
          "data": {
            "text/plain": [
              "['gbc.pkl']"
            ]
          },
          "metadata": {},
          "execution_count": 68
        }
      ],
      "source": [
        "import joblib\n",
        "joblib.dump(rs, 'gbc.pkl')"
      ]
    },
    {
      "cell_type": "code",
      "execution_count": 69,
      "metadata": {
        "id": "oEHa0mH1w0Kg"
      },
      "outputs": [],
      "source": [
        "from sklearn.svm import SVC\n",
        "pipeline = Pipeline(steps = [\n",
        "               ('preprocessor', preprocessor)\n",
        "              ,('classifier',SVC())\n",
        "           ])"
      ]
    },
    {
      "cell_type": "code",
      "execution_count": 70,
      "metadata": {
        "id": "4iRLkfHbyQCl"
      },
      "outputs": [],
      "source": [
        "from scipy import stats\n",
        "rand_list = {\"classifier__C\": stats.uniform(2, 10),\n",
        "             \"classifier__gamma\": stats.uniform(0.1, 1)}"
      ]
    },
    {
      "cell_type": "code",
      "source": [
        "rs = RandomizedSearchCV(pipeline, rand_list, cv=10, verbose=1,n_jobs=-1,scoring='roc_auc')\n",
        "rs.fit(X_train, y_train)"
      ],
      "metadata": {
        "colab": {
          "base_uri": "https://localhost:8080/",
          "height": 246
        },
        "id": "rtbxHf2DU7Uw",
        "outputId": "ba015c83-5f53-4e28-b986-5a76f47ebd78"
      },
      "execution_count": 71,
      "outputs": [
        {
          "output_type": "stream",
          "name": "stdout",
          "text": [
            "Fitting 10 folds for each of 10 candidates, totalling 100 fits\n"
          ]
        },
        {
          "output_type": "execute_result",
          "data": {
            "text/plain": [
              "RandomizedSearchCV(cv=10,\n",
              "                   estimator=Pipeline(steps=[('preprocessor',\n",
              "                                              ColumnTransformer(transformers=[('numeric',\n",
              "                                                                               Pipeline(steps=[('imputer',\n",
              "                                                                                                SimpleImputer()),\n",
              "                                                                                               ('scaler',\n",
              "                                                                                                StandardScaler())]),\n",
              "                                                                               Index(['SeniorCitizen', 'tenure', 'MonthlyCharges', 'TotalCharges'], dtype='object')),\n",
              "                                                                              ('categorical',\n",
              "                                                                               Pipeline(steps=[('imputer',\n",
              "                                                                                                SimpleImputer(strategy='constant')),\n",
              "                                                                                               ('enco...\n",
              "                                                                                               ('encoder',\n",
              "                                                                                                OneHotEncoder())]),\n",
              "                                                                               ['gender',\n",
              "                                                                                'Partner',\n",
              "                                                                                'Dependents',\n",
              "                                                                                'PhoneService',\n",
              "                                                                                'PaperlessBilling'])])),\n",
              "                                             ('classifier', SVC())]),\n",
              "                   n_jobs=-1,\n",
              "                   param_distributions={'classifier__C': <scipy.stats._distn_infrastructure.rv_frozen object at 0x7f72249c5340>,\n",
              "                                        'classifier__gamma': <scipy.stats._distn_infrastructure.rv_frozen object at 0x7f72249bd8e0>},\n",
              "                   scoring='roc_auc', verbose=1)"
            ],
            "text/html": [
              "<style>#sk-5535ddf1-2dae-4e47-9646-827afc6aeb1b {color: black;background-color: white;}#sk-5535ddf1-2dae-4e47-9646-827afc6aeb1b pre{padding: 0;}#sk-5535ddf1-2dae-4e47-9646-827afc6aeb1b div.sk-toggleable {background-color: white;}#sk-5535ddf1-2dae-4e47-9646-827afc6aeb1b label.sk-toggleable__label {cursor: pointer;display: block;width: 100%;margin-bottom: 0;padding: 0.3em;box-sizing: border-box;text-align: center;}#sk-5535ddf1-2dae-4e47-9646-827afc6aeb1b label.sk-toggleable__label-arrow:before {content: \"▸\";float: left;margin-right: 0.25em;color: #696969;}#sk-5535ddf1-2dae-4e47-9646-827afc6aeb1b label.sk-toggleable__label-arrow:hover:before {color: black;}#sk-5535ddf1-2dae-4e47-9646-827afc6aeb1b div.sk-estimator:hover label.sk-toggleable__label-arrow:before {color: black;}#sk-5535ddf1-2dae-4e47-9646-827afc6aeb1b div.sk-toggleable__content {max-height: 0;max-width: 0;overflow: hidden;text-align: left;background-color: #f0f8ff;}#sk-5535ddf1-2dae-4e47-9646-827afc6aeb1b div.sk-toggleable__content pre {margin: 0.2em;color: black;border-radius: 0.25em;background-color: #f0f8ff;}#sk-5535ddf1-2dae-4e47-9646-827afc6aeb1b input.sk-toggleable__control:checked~div.sk-toggleable__content {max-height: 200px;max-width: 100%;overflow: auto;}#sk-5535ddf1-2dae-4e47-9646-827afc6aeb1b input.sk-toggleable__control:checked~label.sk-toggleable__label-arrow:before {content: \"▾\";}#sk-5535ddf1-2dae-4e47-9646-827afc6aeb1b div.sk-estimator input.sk-toggleable__control:checked~label.sk-toggleable__label {background-color: #d4ebff;}#sk-5535ddf1-2dae-4e47-9646-827afc6aeb1b div.sk-label input.sk-toggleable__control:checked~label.sk-toggleable__label {background-color: #d4ebff;}#sk-5535ddf1-2dae-4e47-9646-827afc6aeb1b input.sk-hidden--visually {border: 0;clip: rect(1px 1px 1px 1px);clip: rect(1px, 1px, 1px, 1px);height: 1px;margin: -1px;overflow: hidden;padding: 0;position: absolute;width: 1px;}#sk-5535ddf1-2dae-4e47-9646-827afc6aeb1b div.sk-estimator {font-family: monospace;background-color: #f0f8ff;border: 1px dotted black;border-radius: 0.25em;box-sizing: border-box;margin-bottom: 0.5em;}#sk-5535ddf1-2dae-4e47-9646-827afc6aeb1b div.sk-estimator:hover {background-color: #d4ebff;}#sk-5535ddf1-2dae-4e47-9646-827afc6aeb1b div.sk-parallel-item::after {content: \"\";width: 100%;border-bottom: 1px solid gray;flex-grow: 1;}#sk-5535ddf1-2dae-4e47-9646-827afc6aeb1b div.sk-label:hover label.sk-toggleable__label {background-color: #d4ebff;}#sk-5535ddf1-2dae-4e47-9646-827afc6aeb1b div.sk-serial::before {content: \"\";position: absolute;border-left: 1px solid gray;box-sizing: border-box;top: 2em;bottom: 0;left: 50%;}#sk-5535ddf1-2dae-4e47-9646-827afc6aeb1b div.sk-serial {display: flex;flex-direction: column;align-items: center;background-color: white;padding-right: 0.2em;padding-left: 0.2em;}#sk-5535ddf1-2dae-4e47-9646-827afc6aeb1b div.sk-item {z-index: 1;}#sk-5535ddf1-2dae-4e47-9646-827afc6aeb1b div.sk-parallel {display: flex;align-items: stretch;justify-content: center;background-color: white;}#sk-5535ddf1-2dae-4e47-9646-827afc6aeb1b div.sk-parallel::before {content: \"\";position: absolute;border-left: 1px solid gray;box-sizing: border-box;top: 2em;bottom: 0;left: 50%;}#sk-5535ddf1-2dae-4e47-9646-827afc6aeb1b div.sk-parallel-item {display: flex;flex-direction: column;position: relative;background-color: white;}#sk-5535ddf1-2dae-4e47-9646-827afc6aeb1b div.sk-parallel-item:first-child::after {align-self: flex-end;width: 50%;}#sk-5535ddf1-2dae-4e47-9646-827afc6aeb1b div.sk-parallel-item:last-child::after {align-self: flex-start;width: 50%;}#sk-5535ddf1-2dae-4e47-9646-827afc6aeb1b div.sk-parallel-item:only-child::after {width: 0;}#sk-5535ddf1-2dae-4e47-9646-827afc6aeb1b div.sk-dashed-wrapped {border: 1px dashed gray;margin: 0 0.4em 0.5em 0.4em;box-sizing: border-box;padding-bottom: 0.4em;background-color: white;position: relative;}#sk-5535ddf1-2dae-4e47-9646-827afc6aeb1b div.sk-label label {font-family: monospace;font-weight: bold;background-color: white;display: inline-block;line-height: 1.2em;}#sk-5535ddf1-2dae-4e47-9646-827afc6aeb1b div.sk-label-container {position: relative;z-index: 2;text-align: center;}#sk-5535ddf1-2dae-4e47-9646-827afc6aeb1b div.sk-container {/* jupyter's `normalize.less` sets `[hidden] { display: none; }` but bootstrap.min.css set `[hidden] { display: none !important; }` so we also need the `!important` here to be able to override the default hidden behavior on the sphinx rendered scikit-learn.org. See: https://github.com/scikit-learn/scikit-learn/issues/21755 */display: inline-block !important;position: relative;}#sk-5535ddf1-2dae-4e47-9646-827afc6aeb1b div.sk-text-repr-fallback {display: none;}</style><div id=\"sk-5535ddf1-2dae-4e47-9646-827afc6aeb1b\" class=\"sk-top-container\"><div class=\"sk-text-repr-fallback\"><pre>RandomizedSearchCV(cv=10,\n",
              "                   estimator=Pipeline(steps=[(&#x27;preprocessor&#x27;,\n",
              "                                              ColumnTransformer(transformers=[(&#x27;numeric&#x27;,\n",
              "                                                                               Pipeline(steps=[(&#x27;imputer&#x27;,\n",
              "                                                                                                SimpleImputer()),\n",
              "                                                                                               (&#x27;scaler&#x27;,\n",
              "                                                                                                StandardScaler())]),\n",
              "                                                                               Index([&#x27;SeniorCitizen&#x27;, &#x27;tenure&#x27;, &#x27;MonthlyCharges&#x27;, &#x27;TotalCharges&#x27;], dtype=&#x27;object&#x27;)),\n",
              "                                                                              (&#x27;categorical&#x27;,\n",
              "                                                                               Pipeline(steps=[(&#x27;imputer&#x27;,\n",
              "                                                                                                SimpleImputer(strategy=&#x27;constant&#x27;)),\n",
              "                                                                                               (&#x27;enco...\n",
              "                                                                                               (&#x27;encoder&#x27;,\n",
              "                                                                                                OneHotEncoder())]),\n",
              "                                                                               [&#x27;gender&#x27;,\n",
              "                                                                                &#x27;Partner&#x27;,\n",
              "                                                                                &#x27;Dependents&#x27;,\n",
              "                                                                                &#x27;PhoneService&#x27;,\n",
              "                                                                                &#x27;PaperlessBilling&#x27;])])),\n",
              "                                             (&#x27;classifier&#x27;, SVC())]),\n",
              "                   n_jobs=-1,\n",
              "                   param_distributions={&#x27;classifier__C&#x27;: &lt;scipy.stats._distn_infrastructure.rv_frozen object at 0x7f72249c5340&gt;,\n",
              "                                        &#x27;classifier__gamma&#x27;: &lt;scipy.stats._distn_infrastructure.rv_frozen object at 0x7f72249bd8e0&gt;},\n",
              "                   scoring=&#x27;roc_auc&#x27;, verbose=1)</pre><b>Please rerun this cell to show the HTML repr or trust the notebook.</b></div><div class=\"sk-container\" hidden><div class=\"sk-item sk-dashed-wrapped\"><div class=\"sk-label-container\"><div class=\"sk-label sk-toggleable\"><input class=\"sk-toggleable__control sk-hidden--visually\" id=\"62b47574-ce5f-4a0b-b156-88ca8d67949c\" type=\"checkbox\" ><label for=\"62b47574-ce5f-4a0b-b156-88ca8d67949c\" class=\"sk-toggleable__label sk-toggleable__label-arrow\">RandomizedSearchCV</label><div class=\"sk-toggleable__content\"><pre>RandomizedSearchCV(cv=10,\n",
              "                   estimator=Pipeline(steps=[(&#x27;preprocessor&#x27;,\n",
              "                                              ColumnTransformer(transformers=[(&#x27;numeric&#x27;,\n",
              "                                                                               Pipeline(steps=[(&#x27;imputer&#x27;,\n",
              "                                                                                                SimpleImputer()),\n",
              "                                                                                               (&#x27;scaler&#x27;,\n",
              "                                                                                                StandardScaler())]),\n",
              "                                                                               Index([&#x27;SeniorCitizen&#x27;, &#x27;tenure&#x27;, &#x27;MonthlyCharges&#x27;, &#x27;TotalCharges&#x27;], dtype=&#x27;object&#x27;)),\n",
              "                                                                              (&#x27;categorical&#x27;,\n",
              "                                                                               Pipeline(steps=[(&#x27;imputer&#x27;,\n",
              "                                                                                                SimpleImputer(strategy=&#x27;constant&#x27;)),\n",
              "                                                                                               (&#x27;enco...\n",
              "                                                                                               (&#x27;encoder&#x27;,\n",
              "                                                                                                OneHotEncoder())]),\n",
              "                                                                               [&#x27;gender&#x27;,\n",
              "                                                                                &#x27;Partner&#x27;,\n",
              "                                                                                &#x27;Dependents&#x27;,\n",
              "                                                                                &#x27;PhoneService&#x27;,\n",
              "                                                                                &#x27;PaperlessBilling&#x27;])])),\n",
              "                                             (&#x27;classifier&#x27;, SVC())]),\n",
              "                   n_jobs=-1,\n",
              "                   param_distributions={&#x27;classifier__C&#x27;: &lt;scipy.stats._distn_infrastructure.rv_frozen object at 0x7f72249c5340&gt;,\n",
              "                                        &#x27;classifier__gamma&#x27;: &lt;scipy.stats._distn_infrastructure.rv_frozen object at 0x7f72249bd8e0&gt;},\n",
              "                   scoring=&#x27;roc_auc&#x27;, verbose=1)</pre></div></div></div><div class=\"sk-parallel\"><div class=\"sk-parallel-item\"><div class=\"sk-item\"><div class=\"sk-serial\"><div class=\"sk-item\"><div class=\"sk-serial\"><div class=\"sk-item sk-dashed-wrapped\"><div class=\"sk-label-container\"><div class=\"sk-label sk-toggleable\"><input class=\"sk-toggleable__control sk-hidden--visually\" id=\"0a9b26a9-cb29-4d5a-98af-4595635a77d8\" type=\"checkbox\" ><label for=\"0a9b26a9-cb29-4d5a-98af-4595635a77d8\" class=\"sk-toggleable__label sk-toggleable__label-arrow\">preprocessor: ColumnTransformer</label><div class=\"sk-toggleable__content\"><pre>ColumnTransformer(transformers=[(&#x27;numeric&#x27;,\n",
              "                                 Pipeline(steps=[(&#x27;imputer&#x27;, SimpleImputer()),\n",
              "                                                 (&#x27;scaler&#x27;, StandardScaler())]),\n",
              "                                 Index([&#x27;SeniorCitizen&#x27;, &#x27;tenure&#x27;, &#x27;MonthlyCharges&#x27;, &#x27;TotalCharges&#x27;], dtype=&#x27;object&#x27;)),\n",
              "                                (&#x27;categorical&#x27;,\n",
              "                                 Pipeline(steps=[(&#x27;imputer&#x27;,\n",
              "                                                  SimpleImputer(strategy=&#x27;constant&#x27;)),\n",
              "                                                 (&#x27;encoder&#x27;,\n",
              "                                                  OrdinalEncoder())]),\n",
              "                                 [&#x27;MultipleLines&#x27;, &#x27;InternetService&#x27;,\n",
              "                                  &#x27;OnlineSecurity&#x27;, &#x27;OnlineBackup&#x27;,\n",
              "                                  &#x27;DeviceProtection&#x27;, &#x27;TechSupport&#x27;,\n",
              "                                  &#x27;StreamingTV&#x27;, &#x27;StreamingMovies&#x27;, &#x27;Contract&#x27;,\n",
              "                                  &#x27;PaymentMethod&#x27;]),\n",
              "                                (&#x27;categorical2&#x27;,\n",
              "                                 Pipeline(steps=[(&#x27;imputer&#x27;,\n",
              "                                                  SimpleImputer(strategy=&#x27;constant&#x27;)),\n",
              "                                                 (&#x27;encoder&#x27;, OneHotEncoder())]),\n",
              "                                 [&#x27;gender&#x27;, &#x27;Partner&#x27;, &#x27;Dependents&#x27;,\n",
              "                                  &#x27;PhoneService&#x27;, &#x27;PaperlessBilling&#x27;])])</pre></div></div></div><div class=\"sk-parallel\"><div class=\"sk-parallel-item\"><div class=\"sk-item\"><div class=\"sk-label-container\"><div class=\"sk-label sk-toggleable\"><input class=\"sk-toggleable__control sk-hidden--visually\" id=\"b7cf5bec-e12e-41b8-8190-2b1ea037f661\" type=\"checkbox\" ><label for=\"b7cf5bec-e12e-41b8-8190-2b1ea037f661\" class=\"sk-toggleable__label sk-toggleable__label-arrow\">numeric</label><div class=\"sk-toggleable__content\"><pre>Index([&#x27;SeniorCitizen&#x27;, &#x27;tenure&#x27;, &#x27;MonthlyCharges&#x27;, &#x27;TotalCharges&#x27;], dtype=&#x27;object&#x27;)</pre></div></div></div><div class=\"sk-serial\"><div class=\"sk-item\"><div class=\"sk-serial\"><div class=\"sk-item\"><div class=\"sk-estimator sk-toggleable\"><input class=\"sk-toggleable__control sk-hidden--visually\" id=\"efc3cdad-a3fd-4e8f-891a-be4784b1fcfb\" type=\"checkbox\" ><label for=\"efc3cdad-a3fd-4e8f-891a-be4784b1fcfb\" class=\"sk-toggleable__label sk-toggleable__label-arrow\">SimpleImputer</label><div class=\"sk-toggleable__content\"><pre>SimpleImputer()</pre></div></div></div><div class=\"sk-item\"><div class=\"sk-estimator sk-toggleable\"><input class=\"sk-toggleable__control sk-hidden--visually\" id=\"aa1f2785-46e7-44cc-9254-e0247d9007f7\" type=\"checkbox\" ><label for=\"aa1f2785-46e7-44cc-9254-e0247d9007f7\" class=\"sk-toggleable__label sk-toggleable__label-arrow\">StandardScaler</label><div class=\"sk-toggleable__content\"><pre>StandardScaler()</pre></div></div></div></div></div></div></div></div><div class=\"sk-parallel-item\"><div class=\"sk-item\"><div class=\"sk-label-container\"><div class=\"sk-label sk-toggleable\"><input class=\"sk-toggleable__control sk-hidden--visually\" id=\"651ccead-33db-421b-a7e2-1bda90c0014b\" type=\"checkbox\" ><label for=\"651ccead-33db-421b-a7e2-1bda90c0014b\" class=\"sk-toggleable__label sk-toggleable__label-arrow\">categorical</label><div class=\"sk-toggleable__content\"><pre>[&#x27;MultipleLines&#x27;, &#x27;InternetService&#x27;, &#x27;OnlineSecurity&#x27;, &#x27;OnlineBackup&#x27;, &#x27;DeviceProtection&#x27;, &#x27;TechSupport&#x27;, &#x27;StreamingTV&#x27;, &#x27;StreamingMovies&#x27;, &#x27;Contract&#x27;, &#x27;PaymentMethod&#x27;]</pre></div></div></div><div class=\"sk-serial\"><div class=\"sk-item\"><div class=\"sk-serial\"><div class=\"sk-item\"><div class=\"sk-estimator sk-toggleable\"><input class=\"sk-toggleable__control sk-hidden--visually\" id=\"c5c68c5c-ffd4-4017-a763-2908c0b3312f\" type=\"checkbox\" ><label for=\"c5c68c5c-ffd4-4017-a763-2908c0b3312f\" class=\"sk-toggleable__label sk-toggleable__label-arrow\">SimpleImputer</label><div class=\"sk-toggleable__content\"><pre>SimpleImputer(strategy=&#x27;constant&#x27;)</pre></div></div></div><div class=\"sk-item\"><div class=\"sk-estimator sk-toggleable\"><input class=\"sk-toggleable__control sk-hidden--visually\" id=\"984d1b1d-09ca-47e6-a8d5-9ae646a0e3ff\" type=\"checkbox\" ><label for=\"984d1b1d-09ca-47e6-a8d5-9ae646a0e3ff\" class=\"sk-toggleable__label sk-toggleable__label-arrow\">OrdinalEncoder</label><div class=\"sk-toggleable__content\"><pre>OrdinalEncoder()</pre></div></div></div></div></div></div></div></div><div class=\"sk-parallel-item\"><div class=\"sk-item\"><div class=\"sk-label-container\"><div class=\"sk-label sk-toggleable\"><input class=\"sk-toggleable__control sk-hidden--visually\" id=\"715527e3-e80a-4a7d-a8da-3cd93b448cd9\" type=\"checkbox\" ><label for=\"715527e3-e80a-4a7d-a8da-3cd93b448cd9\" class=\"sk-toggleable__label sk-toggleable__label-arrow\">categorical2</label><div class=\"sk-toggleable__content\"><pre>[&#x27;gender&#x27;, &#x27;Partner&#x27;, &#x27;Dependents&#x27;, &#x27;PhoneService&#x27;, &#x27;PaperlessBilling&#x27;]</pre></div></div></div><div class=\"sk-serial\"><div class=\"sk-item\"><div class=\"sk-serial\"><div class=\"sk-item\"><div class=\"sk-estimator sk-toggleable\"><input class=\"sk-toggleable__control sk-hidden--visually\" id=\"5a4cc408-1a6c-48ea-908d-ea9d82779640\" type=\"checkbox\" ><label for=\"5a4cc408-1a6c-48ea-908d-ea9d82779640\" class=\"sk-toggleable__label sk-toggleable__label-arrow\">SimpleImputer</label><div class=\"sk-toggleable__content\"><pre>SimpleImputer(strategy=&#x27;constant&#x27;)</pre></div></div></div><div class=\"sk-item\"><div class=\"sk-estimator sk-toggleable\"><input class=\"sk-toggleable__control sk-hidden--visually\" id=\"e1eded45-eea1-40cd-9e42-b7a71cabb502\" type=\"checkbox\" ><label for=\"e1eded45-eea1-40cd-9e42-b7a71cabb502\" class=\"sk-toggleable__label sk-toggleable__label-arrow\">OneHotEncoder</label><div class=\"sk-toggleable__content\"><pre>OneHotEncoder()</pre></div></div></div></div></div></div></div></div></div></div><div class=\"sk-item\"><div class=\"sk-estimator sk-toggleable\"><input class=\"sk-toggleable__control sk-hidden--visually\" id=\"aa8a6ed5-c356-4b2f-987b-554e19c52e48\" type=\"checkbox\" ><label for=\"aa8a6ed5-c356-4b2f-987b-554e19c52e48\" class=\"sk-toggleable__label sk-toggleable__label-arrow\">SVC</label><div class=\"sk-toggleable__content\"><pre>SVC()</pre></div></div></div></div></div></div></div></div></div></div></div></div>"
            ]
          },
          "metadata": {},
          "execution_count": 71
        }
      ]
    },
    {
      "cell_type": "code",
      "source": [
        "score = rs.score(X_train, y_train)\n",
        "print(score)"
      ],
      "metadata": {
        "colab": {
          "base_uri": "https://localhost:8080/"
        },
        "id": "lKm23A77V031",
        "outputId": "7a5a9099-a524-427a-c0d8-b0ed8ad8ff00"
      },
      "execution_count": 72,
      "outputs": [
        {
          "output_type": "stream",
          "name": "stdout",
          "text": [
            "0.964806623132307\n"
          ]
        }
      ]
    },
    {
      "cell_type": "code",
      "source": [
        "score = rs.score(X_test, y_test)\n",
        "print(score)"
      ],
      "metadata": {
        "colab": {
          "base_uri": "https://localhost:8080/"
        },
        "id": "_Dg7qvpOV3kG",
        "outputId": "1011275b-7973-4fcd-b401-a1b9984951ec"
      },
      "execution_count": 73,
      "outputs": [
        {
          "output_type": "stream",
          "name": "stdout",
          "text": [
            "0.7598945054945054\n"
          ]
        }
      ]
    },
    {
      "cell_type": "markdown",
      "source": [
        "## Conclusiones\n",
        "**¿Se evidencian problemas de overfitting o underfitting?**\n",
        "\n",
        "El SVC que entrenamos tiene serios problemas de overfitting, siendo su resultado en entrenamiento bastante mas alto que el de testing, mientras que los otros dos modelos se veian mucho mejor. En ambos modelos evidenciamos (Random Forest - Gradient Boosting) un comportamiento bastante mejor con respecto al overfitting, aunque si encontramos que el RandomizedSearch entreno el mejor modelo maximizando score, sin revisar el overfitting. Sin embargo, decidimos utilizar estos modelos ya que aun con este problema tiene un muy buen rendimiento con datos que no conoce. Los resultados del ROC AUC fueron los siguientes:\n",
        "\n",
        "\n",
        "*   Random Forest: 95% en entrenamiento y 82% en testing. \n",
        "*   Gradient Boosting: 99% en entrenamiento y 81% en testing.\n",
        "*   SVC: 96% en entrenamiento y 75% en testing.\n",
        "\n",
        "\n",
        "\n",
        "Finalmente, decidimos escoger el Random Forest como nuestro modelo a desplegar pues presentaba un mejor rendimiento en promedio entre las diferentes clases. Ademas con datos desconocidos ambos modelos se comportan de manera muy similar y es el que menos overfitting presentaba.\n",
        "\n",
        "**Curva ROC AUC vs. F1 score vs. Precision/Recall**\n",
        "\n",
        "Escoger una buena metrica de evaluacion es algo muy importante ya que dependiendo del contexto y del objetivo que se tenga puede resultar mejor o peor esocger alguna de las metricas. Sin embargo, la metrica ROCA AUC tiene una ventaja sobre las demas metricas. Su ventaja principal es que puede funcionar con problemas donde tengamos datos desbalanceados. Contrario al F1-score donde se castiga mucho que las clases esten desbalanceadas. Por esto, en algunos problemas puede resultar mejor usar el ROC AUC, sobretodo en aquellos donde le damos la misma importancia a la clase positiva y negativa.\n",
        "\n",
        "Fuente: https://neptune.ai/blog/f1-score-accuracy-roc-auc-pr-auc\n",
        "\n"
      ],
      "metadata": {
        "id": "GnFhRlCiEiOI"
      }
    },
    {
      "cell_type": "code",
      "execution_count": 73,
      "metadata": {
        "id": "Zm4gMhVu5b2b"
      },
      "outputs": [],
      "source": []
    }
  ],
  "metadata": {
    "colab": {
      "provenance": []
    },
    "gpuClass": "standard",
    "kernelspec": {
      "display_name": "Python 3",
      "name": "python3"
    },
    "language_info": {
      "name": "python"
    }
  },
  "nbformat": 4,
  "nbformat_minor": 0
}